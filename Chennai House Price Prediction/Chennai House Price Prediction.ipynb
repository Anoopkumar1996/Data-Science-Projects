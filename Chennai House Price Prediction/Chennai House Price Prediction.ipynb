{
 "cells": [
  {
   "cell_type": "markdown",
   "id": "361f1dd0",
   "metadata": {
    "id": "361f1dd0"
   },
   "source": [
    "# Importing Necessary Libraries"
   ]
  },
  {
   "cell_type": "code",
   "execution_count": 1,
   "id": "dc29e99a",
   "metadata": {
    "id": "dc29e99a"
   },
   "outputs": [],
   "source": [
    "import pandas as pd\n",
    "import numpy as np\n",
    "import matplotlib.pyplot as plt\n",
    "%matplotlib inline\n",
    "import seaborn as sns\n",
    "import warnings\n",
    "warnings.filterwarnings(\"ignore\")"
   ]
  },
  {
   "cell_type": "code",
   "execution_count": 2,
   "id": "ec06c794",
   "metadata": {
    "id": "ec06c794"
   },
   "outputs": [],
   "source": [
    "df = pd.read_csv('train-chennai-sale.csv')"
   ]
  },
  {
   "cell_type": "markdown",
   "id": "8yx1i1LmTyl3",
   "metadata": {
    "id": "8yx1i1LmTyl3"
   },
   "source": [
    "Checking for Missing Values"
   ]
  },
  {
   "cell_type": "code",
   "execution_count": 3,
   "id": "8885edbf",
   "metadata": {
    "colab": {
     "base_uri": "https://localhost:8080/"
    },
    "id": "8885edbf",
    "outputId": "e02b3ed6-e9af-443a-dd53-9d7d77cdc4f2"
   },
   "outputs": [
    {
     "data": {
      "text/plain": [
       "PRT_ID            0\n",
       "AREA              0\n",
       "INT_SQFT          0\n",
       "DATE_SALE         0\n",
       "DIST_MAINROAD     0\n",
       "N_BEDROOM         1\n",
       "N_BATHROOM        5\n",
       "N_ROOM            0\n",
       "SALE_COND         0\n",
       "PARK_FACIL        0\n",
       "DATE_BUILD        0\n",
       "BUILDTYPE         0\n",
       "UTILITY_AVAIL     0\n",
       "STREET            0\n",
       "MZZONE            0\n",
       "QS_ROOMS          0\n",
       "QS_BATHROOM       0\n",
       "QS_BEDROOM        0\n",
       "QS_OVERALL       48\n",
       "REG_FEE           0\n",
       "COMMIS            0\n",
       "SALES_PRICE       0\n",
       "dtype: int64"
      ]
     },
     "execution_count": 3,
     "metadata": {},
     "output_type": "execute_result"
    }
   ],
   "source": [
    "df.isnull().sum()"
   ]
  },
  {
   "cell_type": "markdown",
   "id": "kch4PWxhUbPf",
   "metadata": {
    "id": "kch4PWxhUbPf"
   },
   "source": [
    "Missing Values are present in *N_BEDROOM*, *N_BATHROOM*, *QS_OVERALL* Coloumns"
   ]
  },
  {
   "cell_type": "markdown",
   "id": "pZv8qxn0Vr_c",
   "metadata": {
    "id": "pZv8qxn0Vr_c"
   },
   "source": [
    "#Checking the Datatypes of Coloumns"
   ]
  },
  {
   "cell_type": "code",
   "execution_count": 4,
   "id": "09fcac4f",
   "metadata": {
    "colab": {
     "base_uri": "https://localhost:8080/"
    },
    "id": "09fcac4f",
    "outputId": "5034dac3-29cb-4759-d2bb-865b873844e0"
   },
   "outputs": [
    {
     "data": {
      "text/plain": [
       "PRT_ID            object\n",
       "AREA              object\n",
       "INT_SQFT           int64\n",
       "DATE_SALE         object\n",
       "DIST_MAINROAD      int64\n",
       "N_BEDROOM        float64\n",
       "N_BATHROOM       float64\n",
       "N_ROOM             int64\n",
       "SALE_COND         object\n",
       "PARK_FACIL        object\n",
       "DATE_BUILD        object\n",
       "BUILDTYPE         object\n",
       "UTILITY_AVAIL     object\n",
       "STREET            object\n",
       "MZZONE            object\n",
       "QS_ROOMS         float64\n",
       "QS_BATHROOM      float64\n",
       "QS_BEDROOM       float64\n",
       "QS_OVERALL       float64\n",
       "REG_FEE            int64\n",
       "COMMIS             int64\n",
       "SALES_PRICE        int64\n",
       "dtype: object"
      ]
     },
     "execution_count": 4,
     "metadata": {},
     "output_type": "execute_result"
    }
   ],
   "source": [
    "df.dtypes"
   ]
  },
  {
   "cell_type": "markdown",
   "id": "XSuZQD5wWZ-4",
   "metadata": {
    "id": "XSuZQD5wWZ-4"
   },
   "source": [
    "#Filling in the missing values and converting N_BEDROOM AND N_BATHROOM to int datatype"
   ]
  },
  {
   "cell_type": "code",
   "execution_count": 5,
   "id": "g6kF68n1V4eg",
   "metadata": {
    "id": "g6kF68n1V4eg"
   },
   "outputs": [],
   "source": [
    "df = df.fillna({\"N_BEDROOM\": df[\"N_BEDROOM\"].mode()[0],\n",
    "           \"N_BATHROOM\": df[\"N_BATHROOM\"].mode()[0], \n",
    "           \"QS_OVERALL\": df[\"QS_OVERALL\"].mean()})"
   ]
  },
  {
   "cell_type": "code",
   "execution_count": 6,
   "id": "5v4yyqiGcwfn",
   "metadata": {
    "id": "5v4yyqiGcwfn"
   },
   "outputs": [],
   "source": [
    "df['N_BEDROOM']= df['N_BEDROOM'].astype(int)\n",
    "df['N_BATHROOM']= df['N_BATHROOM'].astype(int)"
   ]
  },
  {
   "cell_type": "code",
   "execution_count": 7,
   "id": "owAcAeP4aC-V",
   "metadata": {
    "colab": {
     "base_uri": "https://localhost:8080/"
    },
    "id": "owAcAeP4aC-V",
    "outputId": "6b2d3524-c178-462a-d31a-a080bfd973c1"
   },
   "outputs": [
    {
     "name": "stdout",
     "output_type": "stream",
     "text": [
      "<class 'pandas.core.frame.DataFrame'>\n",
      "RangeIndex: 7109 entries, 0 to 7108\n",
      "Data columns (total 22 columns):\n",
      " #   Column         Non-Null Count  Dtype  \n",
      "---  ------         --------------  -----  \n",
      " 0   PRT_ID         7109 non-null   object \n",
      " 1   AREA           7109 non-null   object \n",
      " 2   INT_SQFT       7109 non-null   int64  \n",
      " 3   DATE_SALE      7109 non-null   object \n",
      " 4   DIST_MAINROAD  7109 non-null   int64  \n",
      " 5   N_BEDROOM      7109 non-null   int32  \n",
      " 6   N_BATHROOM     7109 non-null   int32  \n",
      " 7   N_ROOM         7109 non-null   int64  \n",
      " 8   SALE_COND      7109 non-null   object \n",
      " 9   PARK_FACIL     7109 non-null   object \n",
      " 10  DATE_BUILD     7109 non-null   object \n",
      " 11  BUILDTYPE      7109 non-null   object \n",
      " 12  UTILITY_AVAIL  7109 non-null   object \n",
      " 13  STREET         7109 non-null   object \n",
      " 14  MZZONE         7109 non-null   object \n",
      " 15  QS_ROOMS       7109 non-null   float64\n",
      " 16  QS_BATHROOM    7109 non-null   float64\n",
      " 17  QS_BEDROOM     7109 non-null   float64\n",
      " 18  QS_OVERALL     7109 non-null   float64\n",
      " 19  REG_FEE        7109 non-null   int64  \n",
      " 20  COMMIS         7109 non-null   int64  \n",
      " 21  SALES_PRICE    7109 non-null   int64  \n",
      "dtypes: float64(4), int32(2), int64(6), object(10)\n",
      "memory usage: 1.1+ MB\n"
     ]
    }
   ],
   "source": [
    "df.info()"
   ]
  },
  {
   "cell_type": "markdown",
   "id": "G29rNxiPdOXH",
   "metadata": {
    "id": "G29rNxiPdOXH"
   },
   "source": [
    "#Changing DateTime Values into DateTime Objects"
   ]
  },
  {
   "cell_type": "code",
   "execution_count": 8,
   "id": "kTlGEd7vXrEv",
   "metadata": {
    "id": "kTlGEd7vXrEv"
   },
   "outputs": [],
   "source": [
    "df['DATE_SALE']=pd.to_datetime(df['DATE_SALE'])\n",
    "df['DATE_BUILD']=pd.to_datetime(df['DATE_BUILD'])"
   ]
  },
  {
   "cell_type": "markdown",
   "id": "xdl8DMf8hV24",
   "metadata": {
    "id": "xdl8DMf8hV24"
   },
   "source": [
    "#Adding a new coloumn called BUILDING_AGE"
   ]
  },
  {
   "cell_type": "code",
   "execution_count": 9,
   "id": "6qC9BdjtZd7n",
   "metadata": {
    "colab": {
     "base_uri": "https://localhost:8080/",
     "height": 0
    },
    "id": "6qC9BdjtZd7n",
    "outputId": "28dd0b11-4c81-4891-c0e3-4eb7f618fe68"
   },
   "outputs": [
    {
     "data": {
      "text/html": [
       "<div>\n",
       "<style scoped>\n",
       "    .dataframe tbody tr th:only-of-type {\n",
       "        vertical-align: middle;\n",
       "    }\n",
       "\n",
       "    .dataframe tbody tr th {\n",
       "        vertical-align: top;\n",
       "    }\n",
       "\n",
       "    .dataframe thead th {\n",
       "        text-align: right;\n",
       "    }\n",
       "</style>\n",
       "<table border=\"1\" class=\"dataframe\">\n",
       "  <thead>\n",
       "    <tr style=\"text-align: right;\">\n",
       "      <th></th>\n",
       "      <th>PRT_ID</th>\n",
       "      <th>AREA</th>\n",
       "      <th>INT_SQFT</th>\n",
       "      <th>DATE_SALE</th>\n",
       "      <th>DIST_MAINROAD</th>\n",
       "      <th>N_BEDROOM</th>\n",
       "      <th>N_BATHROOM</th>\n",
       "      <th>N_ROOM</th>\n",
       "      <th>SALE_COND</th>\n",
       "      <th>PARK_FACIL</th>\n",
       "      <th>...</th>\n",
       "      <th>STREET</th>\n",
       "      <th>MZZONE</th>\n",
       "      <th>QS_ROOMS</th>\n",
       "      <th>QS_BATHROOM</th>\n",
       "      <th>QS_BEDROOM</th>\n",
       "      <th>QS_OVERALL</th>\n",
       "      <th>REG_FEE</th>\n",
       "      <th>COMMIS</th>\n",
       "      <th>SALES_PRICE</th>\n",
       "      <th>BUILDING_AGE</th>\n",
       "    </tr>\n",
       "  </thead>\n",
       "  <tbody>\n",
       "    <tr>\n",
       "      <th>0</th>\n",
       "      <td>P03210</td>\n",
       "      <td>Karapakkam</td>\n",
       "      <td>1004</td>\n",
       "      <td>2011-04-05</td>\n",
       "      <td>131</td>\n",
       "      <td>1</td>\n",
       "      <td>1</td>\n",
       "      <td>3</td>\n",
       "      <td>AbNormal</td>\n",
       "      <td>Yes</td>\n",
       "      <td>...</td>\n",
       "      <td>Paved</td>\n",
       "      <td>A</td>\n",
       "      <td>4.0</td>\n",
       "      <td>3.9</td>\n",
       "      <td>4.9</td>\n",
       "      <td>4.330</td>\n",
       "      <td>380000</td>\n",
       "      <td>144400</td>\n",
       "      <td>7600000</td>\n",
       "      <td>16031 days</td>\n",
       "    </tr>\n",
       "    <tr>\n",
       "      <th>1</th>\n",
       "      <td>P09411</td>\n",
       "      <td>Anna Nagar</td>\n",
       "      <td>1986</td>\n",
       "      <td>2006-12-19</td>\n",
       "      <td>26</td>\n",
       "      <td>2</td>\n",
       "      <td>1</td>\n",
       "      <td>5</td>\n",
       "      <td>AbNormal</td>\n",
       "      <td>No</td>\n",
       "      <td>...</td>\n",
       "      <td>Gravel</td>\n",
       "      <td>RH</td>\n",
       "      <td>4.9</td>\n",
       "      <td>4.2</td>\n",
       "      <td>2.5</td>\n",
       "      <td>3.765</td>\n",
       "      <td>760122</td>\n",
       "      <td>304049</td>\n",
       "      <td>21717770</td>\n",
       "      <td>4015 days</td>\n",
       "    </tr>\n",
       "    <tr>\n",
       "      <th>2</th>\n",
       "      <td>P01812</td>\n",
       "      <td>Adyar</td>\n",
       "      <td>909</td>\n",
       "      <td>2012-04-02</td>\n",
       "      <td>70</td>\n",
       "      <td>1</td>\n",
       "      <td>1</td>\n",
       "      <td>3</td>\n",
       "      <td>AbNormal</td>\n",
       "      <td>Yes</td>\n",
       "      <td>...</td>\n",
       "      <td>Gravel</td>\n",
       "      <td>RL</td>\n",
       "      <td>4.1</td>\n",
       "      <td>3.8</td>\n",
       "      <td>2.2</td>\n",
       "      <td>3.090</td>\n",
       "      <td>421094</td>\n",
       "      <td>92114</td>\n",
       "      <td>13159200</td>\n",
       "      <td>7152 days</td>\n",
       "    </tr>\n",
       "    <tr>\n",
       "      <th>3</th>\n",
       "      <td>P05346</td>\n",
       "      <td>Velachery</td>\n",
       "      <td>1855</td>\n",
       "      <td>2010-03-13</td>\n",
       "      <td>14</td>\n",
       "      <td>3</td>\n",
       "      <td>2</td>\n",
       "      <td>5</td>\n",
       "      <td>Family</td>\n",
       "      <td>No</td>\n",
       "      <td>...</td>\n",
       "      <td>Paved</td>\n",
       "      <td>I</td>\n",
       "      <td>4.7</td>\n",
       "      <td>3.9</td>\n",
       "      <td>3.6</td>\n",
       "      <td>4.010</td>\n",
       "      <td>356321</td>\n",
       "      <td>77042</td>\n",
       "      <td>9630290</td>\n",
       "      <td>8030 days</td>\n",
       "    </tr>\n",
       "    <tr>\n",
       "      <th>4</th>\n",
       "      <td>P06210</td>\n",
       "      <td>Karapakkam</td>\n",
       "      <td>1226</td>\n",
       "      <td>2009-05-10</td>\n",
       "      <td>84</td>\n",
       "      <td>1</td>\n",
       "      <td>1</td>\n",
       "      <td>3</td>\n",
       "      <td>AbNormal</td>\n",
       "      <td>Yes</td>\n",
       "      <td>...</td>\n",
       "      <td>Gravel</td>\n",
       "      <td>C</td>\n",
       "      <td>3.0</td>\n",
       "      <td>2.5</td>\n",
       "      <td>4.1</td>\n",
       "      <td>3.290</td>\n",
       "      <td>237000</td>\n",
       "      <td>74063</td>\n",
       "      <td>7406250</td>\n",
       "      <td>10802 days</td>\n",
       "    </tr>\n",
       "  </tbody>\n",
       "</table>\n",
       "<p>5 rows × 23 columns</p>\n",
       "</div>"
      ],
      "text/plain": [
       "   PRT_ID        AREA  INT_SQFT  DATE_SALE  DIST_MAINROAD  N_BEDROOM  \\\n",
       "0  P03210  Karapakkam      1004 2011-04-05            131          1   \n",
       "1  P09411  Anna Nagar      1986 2006-12-19             26          2   \n",
       "2  P01812       Adyar       909 2012-04-02             70          1   \n",
       "3  P05346   Velachery      1855 2010-03-13             14          3   \n",
       "4  P06210  Karapakkam      1226 2009-05-10             84          1   \n",
       "\n",
       "   N_BATHROOM  N_ROOM SALE_COND PARK_FACIL  ...  STREET MZZONE QS_ROOMS  \\\n",
       "0           1       3  AbNormal        Yes  ...   Paved      A      4.0   \n",
       "1           1       5  AbNormal         No  ...  Gravel     RH      4.9   \n",
       "2           1       3  AbNormal        Yes  ...  Gravel     RL      4.1   \n",
       "3           2       5    Family         No  ...   Paved      I      4.7   \n",
       "4           1       3  AbNormal        Yes  ...  Gravel      C      3.0   \n",
       "\n",
       "  QS_BATHROOM QS_BEDROOM  QS_OVERALL  REG_FEE  COMMIS  SALES_PRICE  \\\n",
       "0         3.9        4.9       4.330   380000  144400      7600000   \n",
       "1         4.2        2.5       3.765   760122  304049     21717770   \n",
       "2         3.8        2.2       3.090   421094   92114     13159200   \n",
       "3         3.9        3.6       4.010   356321   77042      9630290   \n",
       "4         2.5        4.1       3.290   237000   74063      7406250   \n",
       "\n",
       "   BUILDING_AGE  \n",
       "0    16031 days  \n",
       "1     4015 days  \n",
       "2     7152 days  \n",
       "3     8030 days  \n",
       "4    10802 days  \n",
       "\n",
       "[5 rows x 23 columns]"
      ]
     },
     "execution_count": 9,
     "metadata": {},
     "output_type": "execute_result"
    }
   ],
   "source": [
    "df[\"BUILDING_AGE\"]=df['DATE_SALE']-df['DATE_BUILD']\n",
    "df.head()\n"
   ]
  },
  {
   "cell_type": "markdown",
   "id": "kfCWU3vvdzMb",
   "metadata": {
    "id": "kfCWU3vvdzMb"
   },
   "source": [
    "Converting Building age to Years"
   ]
  },
  {
   "cell_type": "code",
   "execution_count": 10,
   "id": "ewEPGhCl2Fyj",
   "metadata": {
    "id": "ewEPGhCl2Fyj"
   },
   "outputs": [],
   "source": [
    "df[\"BUILDING_AGE\"]=(df.BUILDING_AGE)/np.timedelta64(1,'Y')\n"
   ]
  },
  {
   "cell_type": "markdown",
   "id": "KkKIW9m9IgJl",
   "metadata": {
    "id": "KkKIW9m9IgJl"
   },
   "source": [
    "Converting Building age datatype to int"
   ]
  },
  {
   "cell_type": "code",
   "execution_count": 11,
   "id": "_EnoqGg2WvM6",
   "metadata": {
    "id": "_EnoqGg2WvM6"
   },
   "outputs": [],
   "source": [
    "df['BUILDING_AGE']= df['BUILDING_AGE'].astype(int)"
   ]
  },
  {
   "cell_type": "code",
   "execution_count": 12,
   "id": "RW0cejj7WagD",
   "metadata": {
    "colab": {
     "base_uri": "https://localhost:8080/",
     "height": 0
    },
    "id": "RW0cejj7WagD",
    "outputId": "6a12fdfa-16bb-45bc-f3e0-1c0162827f83"
   },
   "outputs": [
    {
     "data": {
      "text/html": [
       "<div>\n",
       "<style scoped>\n",
       "    .dataframe tbody tr th:only-of-type {\n",
       "        vertical-align: middle;\n",
       "    }\n",
       "\n",
       "    .dataframe tbody tr th {\n",
       "        vertical-align: top;\n",
       "    }\n",
       "\n",
       "    .dataframe thead th {\n",
       "        text-align: right;\n",
       "    }\n",
       "</style>\n",
       "<table border=\"1\" class=\"dataframe\">\n",
       "  <thead>\n",
       "    <tr style=\"text-align: right;\">\n",
       "      <th></th>\n",
       "      <th>PRT_ID</th>\n",
       "      <th>AREA</th>\n",
       "      <th>INT_SQFT</th>\n",
       "      <th>DATE_SALE</th>\n",
       "      <th>DIST_MAINROAD</th>\n",
       "      <th>N_BEDROOM</th>\n",
       "      <th>N_BATHROOM</th>\n",
       "      <th>N_ROOM</th>\n",
       "      <th>SALE_COND</th>\n",
       "      <th>PARK_FACIL</th>\n",
       "      <th>...</th>\n",
       "      <th>STREET</th>\n",
       "      <th>MZZONE</th>\n",
       "      <th>QS_ROOMS</th>\n",
       "      <th>QS_BATHROOM</th>\n",
       "      <th>QS_BEDROOM</th>\n",
       "      <th>QS_OVERALL</th>\n",
       "      <th>REG_FEE</th>\n",
       "      <th>COMMIS</th>\n",
       "      <th>SALES_PRICE</th>\n",
       "      <th>BUILDING_AGE</th>\n",
       "    </tr>\n",
       "  </thead>\n",
       "  <tbody>\n",
       "    <tr>\n",
       "      <th>0</th>\n",
       "      <td>P03210</td>\n",
       "      <td>Karapakkam</td>\n",
       "      <td>1004</td>\n",
       "      <td>2011-04-05</td>\n",
       "      <td>131</td>\n",
       "      <td>1</td>\n",
       "      <td>1</td>\n",
       "      <td>3</td>\n",
       "      <td>AbNormal</td>\n",
       "      <td>Yes</td>\n",
       "      <td>...</td>\n",
       "      <td>Paved</td>\n",
       "      <td>A</td>\n",
       "      <td>4.0</td>\n",
       "      <td>3.9</td>\n",
       "      <td>4.9</td>\n",
       "      <td>4.330</td>\n",
       "      <td>380000</td>\n",
       "      <td>144400</td>\n",
       "      <td>7600000</td>\n",
       "      <td>43</td>\n",
       "    </tr>\n",
       "    <tr>\n",
       "      <th>1</th>\n",
       "      <td>P09411</td>\n",
       "      <td>Anna Nagar</td>\n",
       "      <td>1986</td>\n",
       "      <td>2006-12-19</td>\n",
       "      <td>26</td>\n",
       "      <td>2</td>\n",
       "      <td>1</td>\n",
       "      <td>5</td>\n",
       "      <td>AbNormal</td>\n",
       "      <td>No</td>\n",
       "      <td>...</td>\n",
       "      <td>Gravel</td>\n",
       "      <td>RH</td>\n",
       "      <td>4.9</td>\n",
       "      <td>4.2</td>\n",
       "      <td>2.5</td>\n",
       "      <td>3.765</td>\n",
       "      <td>760122</td>\n",
       "      <td>304049</td>\n",
       "      <td>21717770</td>\n",
       "      <td>10</td>\n",
       "    </tr>\n",
       "    <tr>\n",
       "      <th>2</th>\n",
       "      <td>P01812</td>\n",
       "      <td>Adyar</td>\n",
       "      <td>909</td>\n",
       "      <td>2012-04-02</td>\n",
       "      <td>70</td>\n",
       "      <td>1</td>\n",
       "      <td>1</td>\n",
       "      <td>3</td>\n",
       "      <td>AbNormal</td>\n",
       "      <td>Yes</td>\n",
       "      <td>...</td>\n",
       "      <td>Gravel</td>\n",
       "      <td>RL</td>\n",
       "      <td>4.1</td>\n",
       "      <td>3.8</td>\n",
       "      <td>2.2</td>\n",
       "      <td>3.090</td>\n",
       "      <td>421094</td>\n",
       "      <td>92114</td>\n",
       "      <td>13159200</td>\n",
       "      <td>19</td>\n",
       "    </tr>\n",
       "    <tr>\n",
       "      <th>3</th>\n",
       "      <td>P05346</td>\n",
       "      <td>Velachery</td>\n",
       "      <td>1855</td>\n",
       "      <td>2010-03-13</td>\n",
       "      <td>14</td>\n",
       "      <td>3</td>\n",
       "      <td>2</td>\n",
       "      <td>5</td>\n",
       "      <td>Family</td>\n",
       "      <td>No</td>\n",
       "      <td>...</td>\n",
       "      <td>Paved</td>\n",
       "      <td>I</td>\n",
       "      <td>4.7</td>\n",
       "      <td>3.9</td>\n",
       "      <td>3.6</td>\n",
       "      <td>4.010</td>\n",
       "      <td>356321</td>\n",
       "      <td>77042</td>\n",
       "      <td>9630290</td>\n",
       "      <td>21</td>\n",
       "    </tr>\n",
       "    <tr>\n",
       "      <th>4</th>\n",
       "      <td>P06210</td>\n",
       "      <td>Karapakkam</td>\n",
       "      <td>1226</td>\n",
       "      <td>2009-05-10</td>\n",
       "      <td>84</td>\n",
       "      <td>1</td>\n",
       "      <td>1</td>\n",
       "      <td>3</td>\n",
       "      <td>AbNormal</td>\n",
       "      <td>Yes</td>\n",
       "      <td>...</td>\n",
       "      <td>Gravel</td>\n",
       "      <td>C</td>\n",
       "      <td>3.0</td>\n",
       "      <td>2.5</td>\n",
       "      <td>4.1</td>\n",
       "      <td>3.290</td>\n",
       "      <td>237000</td>\n",
       "      <td>74063</td>\n",
       "      <td>7406250</td>\n",
       "      <td>29</td>\n",
       "    </tr>\n",
       "  </tbody>\n",
       "</table>\n",
       "<p>5 rows × 23 columns</p>\n",
       "</div>"
      ],
      "text/plain": [
       "   PRT_ID        AREA  INT_SQFT  DATE_SALE  DIST_MAINROAD  N_BEDROOM  \\\n",
       "0  P03210  Karapakkam      1004 2011-04-05            131          1   \n",
       "1  P09411  Anna Nagar      1986 2006-12-19             26          2   \n",
       "2  P01812       Adyar       909 2012-04-02             70          1   \n",
       "3  P05346   Velachery      1855 2010-03-13             14          3   \n",
       "4  P06210  Karapakkam      1226 2009-05-10             84          1   \n",
       "\n",
       "   N_BATHROOM  N_ROOM SALE_COND PARK_FACIL  ...  STREET MZZONE QS_ROOMS  \\\n",
       "0           1       3  AbNormal        Yes  ...   Paved      A      4.0   \n",
       "1           1       5  AbNormal         No  ...  Gravel     RH      4.9   \n",
       "2           1       3  AbNormal        Yes  ...  Gravel     RL      4.1   \n",
       "3           2       5    Family         No  ...   Paved      I      4.7   \n",
       "4           1       3  AbNormal        Yes  ...  Gravel      C      3.0   \n",
       "\n",
       "  QS_BATHROOM QS_BEDROOM  QS_OVERALL  REG_FEE  COMMIS  SALES_PRICE  \\\n",
       "0         3.9        4.9       4.330   380000  144400      7600000   \n",
       "1         4.2        2.5       3.765   760122  304049     21717770   \n",
       "2         3.8        2.2       3.090   421094   92114     13159200   \n",
       "3         3.9        3.6       4.010   356321   77042      9630290   \n",
       "4         2.5        4.1       3.290   237000   74063      7406250   \n",
       "\n",
       "   BUILDING_AGE  \n",
       "0            43  \n",
       "1            10  \n",
       "2            19  \n",
       "3            21  \n",
       "4            29  \n",
       "\n",
       "[5 rows x 23 columns]"
      ]
     },
     "execution_count": 12,
     "metadata": {},
     "output_type": "execute_result"
    }
   ],
   "source": [
    "df.head()"
   ]
  },
  {
   "cell_type": "markdown",
   "id": "MtPPqKDB8UGq",
   "metadata": {
    "id": "MtPPqKDB8UGq"
   },
   "source": [
    "#Checking the columns and dropping the irrelevent columns\n"
   ]
  },
  {
   "cell_type": "code",
   "execution_count": 13,
   "id": "Eg4cZTBV8RbT",
   "metadata": {
    "colab": {
     "base_uri": "https://localhost:8080/"
    },
    "id": "Eg4cZTBV8RbT",
    "outputId": "522ac924-8f67-4f96-c824-8fe704c7c4b8"
   },
   "outputs": [
    {
     "data": {
      "text/plain": [
       "Index(['PRT_ID', 'AREA', 'INT_SQFT', 'DATE_SALE', 'DIST_MAINROAD', 'N_BEDROOM',\n",
       "       'N_BATHROOM', 'N_ROOM', 'SALE_COND', 'PARK_FACIL', 'DATE_BUILD',\n",
       "       'BUILDTYPE', 'UTILITY_AVAIL', 'STREET', 'MZZONE', 'QS_ROOMS',\n",
       "       'QS_BATHROOM', 'QS_BEDROOM', 'QS_OVERALL', 'REG_FEE', 'COMMIS',\n",
       "       'SALES_PRICE', 'BUILDING_AGE'],\n",
       "      dtype='object')"
      ]
     },
     "execution_count": 13,
     "metadata": {},
     "output_type": "execute_result"
    }
   ],
   "source": [
    "df.columns"
   ]
  },
  {
   "cell_type": "code",
   "execution_count": 14,
   "id": "QXx485vc5bU8",
   "metadata": {
    "id": "QXx485vc5bU8"
   },
   "outputs": [],
   "source": [
    "df.drop(columns=['PRT_ID','REG_FEE','COMMIS','DATE_SALE','DATE_BUILD'],inplace=True)"
   ]
  },
  {
   "cell_type": "code",
   "execution_count": 15,
   "id": "oIKbazfz9DqU",
   "metadata": {
    "colab": {
     "base_uri": "https://localhost:8080/"
    },
    "id": "oIKbazfz9DqU",
    "outputId": "d37b63e8-7641-45c8-d0f7-752508ab24d7"
   },
   "outputs": [
    {
     "data": {
      "text/plain": [
       "Index(['AREA', 'INT_SQFT', 'DIST_MAINROAD', 'N_BEDROOM', 'N_BATHROOM',\n",
       "       'N_ROOM', 'SALE_COND', 'PARK_FACIL', 'BUILDTYPE', 'UTILITY_AVAIL',\n",
       "       'STREET', 'MZZONE', 'QS_ROOMS', 'QS_BATHROOM', 'QS_BEDROOM',\n",
       "       'QS_OVERALL', 'SALES_PRICE', 'BUILDING_AGE'],\n",
       "      dtype='object')"
      ]
     },
     "execution_count": 15,
     "metadata": {},
     "output_type": "execute_result"
    }
   ],
   "source": [
    "df.columns"
   ]
  },
  {
   "cell_type": "markdown",
   "id": "tUiehg2PYLJw",
   "metadata": {
    "id": "tUiehg2PYLJw"
   },
   "source": [
    "#Exploring Categorical data"
   ]
  },
  {
   "cell_type": "code",
   "execution_count": 16,
   "id": "lCYUgx3M9gHT",
   "metadata": {
    "colab": {
     "base_uri": "https://localhost:8080/"
    },
    "id": "lCYUgx3M9gHT",
    "outputId": "62f4dbe9-c598-4683-aff7-8d1c62c6b343"
   },
   "outputs": [
    {
     "name": "stdout",
     "output_type": "stream",
     "text": [
      "No.of Categorical columns = 7\n",
      "['AREA', 'SALE_COND', 'PARK_FACIL', 'BUILDTYPE', 'UTILITY_AVAIL', 'STREET', 'MZZONE']\n"
     ]
    }
   ],
   "source": [
    "df1=df.select_dtypes(include=['object'])\n",
    "print(f\"No.of Categorical columns = {df1.shape[1]}\")\n",
    "print(list(df1.columns))"
   ]
  },
  {
   "cell_type": "markdown",
   "id": "fuBKwld2Z0F5",
   "metadata": {
    "id": "fuBKwld2Z0F5"
   },
   "source": [
    "Checking for no of occurrences in AREA Column"
   ]
  },
  {
   "cell_type": "code",
   "execution_count": 17,
   "id": "WFq4aM3OZv7I",
   "metadata": {
    "colab": {
     "base_uri": "https://localhost:8080/"
    },
    "id": "WFq4aM3OZv7I",
    "outputId": "7c6b1ab7-1648-4b32-e832-8a98b5fb3114"
   },
   "outputs": [
    {
     "data": {
      "text/plain": [
       "Chrompet      1681\n",
       "Karapakkam    1363\n",
       "KK Nagar       996\n",
       "Velachery      979\n",
       "Anna Nagar     783\n",
       "Adyar          773\n",
       "T Nagar        496\n",
       "Chrompt          9\n",
       "Chrmpet          6\n",
       "Chormpet         6\n",
       "TNagar           5\n",
       "Karapakam        3\n",
       "Ana Nagar        3\n",
       "Velchery         2\n",
       "Ann Nagar        2\n",
       "Adyr             1\n",
       "KKNagar          1\n",
       "Name: AREA, dtype: int64"
      ]
     },
     "execution_count": 17,
     "metadata": {},
     "output_type": "execute_result"
    }
   ],
   "source": [
    "df.AREA.value_counts()"
   ]
  },
  {
   "cell_type": "markdown",
   "id": "nKzoMTn0aijF",
   "metadata": {
    "id": "nKzoMTn0aijF"
   },
   "source": [
    "Correcting the spelling Mistakes"
   ]
  },
  {
   "cell_type": "code",
   "execution_count": 18,
   "id": "2WYshGZ5alYH",
   "metadata": {
    "id": "2WYshGZ5alYH"
   },
   "outputs": [],
   "source": [
    "df['AREA'].replace({\"Chrompt\":\"Chrompet\",\"Chrmpet\":\"Chrompet\",\"Chormpet\":\"Chrompet\"},inplace = True)\n",
    "df['AREA'].replace({\"Karapakam\":\"Karapakkam\"},inplace = True)\n",
    "df['AREA'].replace({\"KKNagar\":\"KK Nagar\"},inplace=True)\n",
    "df['AREA'].replace({\"Ann Nagar\":\"Anna Nagar\",\"Ana Nagar\":\"Anna Nagar\"},inplace=True)\n",
    "df['AREA'].replace({\"Velchery\":\"Velachery\"},inplace=True)\n",
    "df['AREA'].replace({\"Adyr\":\"Adyar\"},inplace=True)\n",
    "df['AREA'].replace({\"TNagar\":\"Adyar\"},inplace=True)"
   ]
  },
  {
   "cell_type": "code",
   "execution_count": 19,
   "id": "DbFqykyEI_Io",
   "metadata": {
    "colab": {
     "base_uri": "https://localhost:8080/"
    },
    "id": "DbFqykyEI_Io",
    "outputId": "8bfa2d17-33a6-4ffb-8f84-91e17c4e08cd"
   },
   "outputs": [
    {
     "data": {
      "text/plain": [
       "Chrompet      1702\n",
       "Karapakkam    1366\n",
       "KK Nagar       997\n",
       "Velachery      981\n",
       "Anna Nagar     788\n",
       "Adyar          779\n",
       "T Nagar        496\n",
       "Name: AREA, dtype: int64"
      ]
     },
     "execution_count": 19,
     "metadata": {},
     "output_type": "execute_result"
    }
   ],
   "source": [
    "df.AREA.value_counts()"
   ]
  },
  {
   "cell_type": "markdown",
   "id": "0BaBhtQrMP74",
   "metadata": {
    "id": "0BaBhtQrMP74"
   },
   "source": [
    "Checking for no of occurrences in SALE_COND Column"
   ]
  },
  {
   "cell_type": "code",
   "execution_count": 20,
   "id": "aOXw3239MZld",
   "metadata": {
    "colab": {
     "base_uri": "https://localhost:8080/"
    },
    "id": "aOXw3239MZld",
    "outputId": "44519f02-60a6-4245-e779-37c41b1b1f6d"
   },
   "outputs": [
    {
     "data": {
      "text/plain": [
       "AdjLand        1433\n",
       "Partial        1429\n",
       "Normal Sale    1423\n",
       "AbNormal       1406\n",
       "Family         1403\n",
       "Adj Land          6\n",
       "Ab Normal         5\n",
       "Partiall          3\n",
       "PartiaLl          1\n",
       "Name: SALE_COND, dtype: int64"
      ]
     },
     "execution_count": 20,
     "metadata": {},
     "output_type": "execute_result"
    }
   ],
   "source": [
    "df.SALE_COND.value_counts()"
   ]
  },
  {
   "cell_type": "markdown",
   "id": "YOtXuIO4MoI4",
   "metadata": {
    "id": "YOtXuIO4MoI4"
   },
   "source": [
    "Correcting the spelling Mistakes"
   ]
  },
  {
   "cell_type": "code",
   "execution_count": 21,
   "id": "zcUPXt8vMngt",
   "metadata": {
    "id": "zcUPXt8vMngt"
   },
   "outputs": [],
   "source": [
    "df['SALE_COND'].replace({\"Adj Land\":\"AdjLand\"},inplace=True)\n",
    "df['SALE_COND'].replace({\"Ab Normal\":\"AbNormal\"},inplace=True)\n",
    "df['SALE_COND'].replace({\"PartiaLl\":\"Partial\",\"Partiall\":\"Partial\"},inplace=True)"
   ]
  },
  {
   "cell_type": "code",
   "execution_count": 22,
   "id": "6D6rraa6NORd",
   "metadata": {
    "colab": {
     "base_uri": "https://localhost:8080/"
    },
    "id": "6D6rraa6NORd",
    "outputId": "a042e4a5-4933-48c8-8fd2-020b9dac04aa"
   },
   "outputs": [
    {
     "data": {
      "text/plain": [
       "AdjLand        1439\n",
       "Partial        1433\n",
       "Normal Sale    1423\n",
       "AbNormal       1411\n",
       "Family         1403\n",
       "Name: SALE_COND, dtype: int64"
      ]
     },
     "execution_count": 22,
     "metadata": {},
     "output_type": "execute_result"
    }
   ],
   "source": [
    "df.SALE_COND.value_counts()"
   ]
  },
  {
   "cell_type": "markdown",
   "id": "wKnC_AiSNZnd",
   "metadata": {
    "id": "wKnC_AiSNZnd"
   },
   "source": [
    "Checking for no of occurrences in PARK_FACIL Column"
   ]
  },
  {
   "cell_type": "code",
   "execution_count": 23,
   "id": "GCSRET0UNYTB",
   "metadata": {
    "colab": {
     "base_uri": "https://localhost:8080/"
    },
    "id": "GCSRET0UNYTB",
    "outputId": "f6a4dbb1-268e-485a-b350-f69185333aca"
   },
   "outputs": [
    {
     "data": {
      "text/plain": [
       "Yes    3587\n",
       "No     3520\n",
       "Noo       2\n",
       "Name: PARK_FACIL, dtype: int64"
      ]
     },
     "execution_count": 23,
     "metadata": {},
     "output_type": "execute_result"
    }
   ],
   "source": [
    "df.PARK_FACIL.value_counts()"
   ]
  },
  {
   "cell_type": "markdown",
   "id": "U_79eJoZNY61",
   "metadata": {
    "id": "U_79eJoZNY61"
   },
   "source": [
    "Correcting the spelling Mistakes"
   ]
  },
  {
   "cell_type": "code",
   "execution_count": 24,
   "id": "NOyL0Vq6Nnfc",
   "metadata": {
    "id": "NOyL0Vq6Nnfc"
   },
   "outputs": [],
   "source": [
    "df['PARK_FACIL'].replace({\"Noo\":\"No\"},inplace=True)"
   ]
  },
  {
   "cell_type": "code",
   "execution_count": 25,
   "id": "m9ILN5XMNucX",
   "metadata": {
    "colab": {
     "base_uri": "https://localhost:8080/"
    },
    "id": "m9ILN5XMNucX",
    "outputId": "01c08c95-5b2a-42b7-b2dc-2aa6d0603104"
   },
   "outputs": [
    {
     "data": {
      "text/plain": [
       "Yes    3587\n",
       "No     3522\n",
       "Name: PARK_FACIL, dtype: int64"
      ]
     },
     "execution_count": 25,
     "metadata": {},
     "output_type": "execute_result"
    }
   ],
   "source": [
    "df.PARK_FACIL.value_counts()"
   ]
  },
  {
   "cell_type": "markdown",
   "id": "q3K3z7ThN1EG",
   "metadata": {
    "id": "q3K3z7ThN1EG"
   },
   "source": [
    "Checking for no of occurrences in BUILDTYPE Column\n",
    "\n"
   ]
  },
  {
   "cell_type": "code",
   "execution_count": 26,
   "id": "lhj5H4axN5_N",
   "metadata": {
    "colab": {
     "base_uri": "https://localhost:8080/"
    },
    "id": "lhj5H4axN5_N",
    "outputId": "35123bcf-ee6d-40cc-cf9e-7237033d860c"
   },
   "outputs": [
    {
     "data": {
      "text/plain": [
       "House         2444\n",
       "Commercial    2325\n",
       "Others        2310\n",
       "Other           26\n",
       "Comercial        4\n",
       "Name: BUILDTYPE, dtype: int64"
      ]
     },
     "execution_count": 26,
     "metadata": {},
     "output_type": "execute_result"
    }
   ],
   "source": [
    "df.BUILDTYPE.value_counts()"
   ]
  },
  {
   "cell_type": "markdown",
   "id": "lXj22PvBOJ_n",
   "metadata": {
    "id": "lXj22PvBOJ_n"
   },
   "source": [
    "Correcting the spelling Mistakes"
   ]
  },
  {
   "cell_type": "code",
   "execution_count": 27,
   "id": "y2qv_dF0OKy9",
   "metadata": {
    "id": "y2qv_dF0OKy9"
   },
   "outputs": [],
   "source": [
    "df['BUILDTYPE'].replace({\"Others\":\"Other\",\"Comercial\":\"Commercial\"},inplace=True)"
   ]
  },
  {
   "cell_type": "code",
   "execution_count": 28,
   "id": "GzPli-rSOZkO",
   "metadata": {
    "colab": {
     "base_uri": "https://localhost:8080/"
    },
    "id": "GzPli-rSOZkO",
    "outputId": "dd0c028e-8561-4d28-edc4-a5793cbfd5f6"
   },
   "outputs": [
    {
     "data": {
      "text/plain": [
       "House         2444\n",
       "Other         2336\n",
       "Commercial    2329\n",
       "Name: BUILDTYPE, dtype: int64"
      ]
     },
     "execution_count": 28,
     "metadata": {},
     "output_type": "execute_result"
    }
   ],
   "source": [
    "df.BUILDTYPE.value_counts()"
   ]
  },
  {
   "cell_type": "markdown",
   "id": "Ccma6HzWOipX",
   "metadata": {
    "id": "Ccma6HzWOipX"
   },
   "source": [
    "Checking for no of occurrences in UTILITY_AVAIL Column"
   ]
  },
  {
   "cell_type": "code",
   "execution_count": 29,
   "id": "EsX5zn3LOkce",
   "metadata": {
    "colab": {
     "base_uri": "https://localhost:8080/"
    },
    "id": "EsX5zn3LOkce",
    "outputId": "039354fe-064c-44c0-e38c-1ffea79af611"
   },
   "outputs": [
    {
     "data": {
      "text/plain": [
       "AllPub     1886\n",
       "NoSeWa     1871\n",
       "NoSewr     1829\n",
       "ELO        1522\n",
       "All Pub       1\n",
       "Name: UTILITY_AVAIL, dtype: int64"
      ]
     },
     "execution_count": 29,
     "metadata": {},
     "output_type": "execute_result"
    }
   ],
   "source": [
    "df.UTILITY_AVAIL.value_counts()"
   ]
  },
  {
   "cell_type": "markdown",
   "id": "F4HKHBaJPlI1",
   "metadata": {
    "id": "F4HKHBaJPlI1"
   },
   "source": [
    "Correcting the spelling Mistakes"
   ]
  },
  {
   "cell_type": "code",
   "execution_count": 30,
   "id": "yeRKamGGO6Ad",
   "metadata": {
    "id": "yeRKamGGO6Ad"
   },
   "outputs": [],
   "source": [
    "df['UTILITY_AVAIL'].replace({\"All Pub\":\"AllPub\"},inplace=True)"
   ]
  },
  {
   "cell_type": "code",
   "execution_count": 31,
   "id": "ayuL0jpuPGPV",
   "metadata": {
    "colab": {
     "base_uri": "https://localhost:8080/"
    },
    "id": "ayuL0jpuPGPV",
    "outputId": "8547c150-110b-4d68-8a52-484e6b8810a1"
   },
   "outputs": [
    {
     "data": {
      "text/plain": [
       "AllPub     1887\n",
       "NoSeWa     1871\n",
       "NoSewr     1829\n",
       "ELO        1522\n",
       "Name: UTILITY_AVAIL, dtype: int64"
      ]
     },
     "execution_count": 31,
     "metadata": {},
     "output_type": "execute_result"
    }
   ],
   "source": [
    "df.UTILITY_AVAIL.value_counts()"
   ]
  },
  {
   "cell_type": "markdown",
   "id": "0qvhCXikP3qf",
   "metadata": {
    "id": "0qvhCXikP3qf"
   },
   "source": [
    "Checking for no of occurrences in STREET Column"
   ]
  },
  {
   "cell_type": "code",
   "execution_count": 32,
   "id": "VnkkGWJTOr51",
   "metadata": {
    "colab": {
     "base_uri": "https://localhost:8080/"
    },
    "id": "VnkkGWJTOr51",
    "outputId": "48618642-166d-410b-bd87-abd16799da5f"
   },
   "outputs": [
    {
     "data": {
      "text/plain": [
       "Paved        2560\n",
       "Gravel       2520\n",
       "No Access    2010\n",
       "Pavd           12\n",
       "NoAccess        7\n",
       "Name: STREET, dtype: int64"
      ]
     },
     "execution_count": 32,
     "metadata": {},
     "output_type": "execute_result"
    }
   ],
   "source": [
    "df.STREET.value_counts()"
   ]
  },
  {
   "cell_type": "markdown",
   "id": "Tn2mixtiQKE-",
   "metadata": {
    "id": "Tn2mixtiQKE-"
   },
   "source": [
    "Correcting the spelling Mistakes"
   ]
  },
  {
   "cell_type": "code",
   "execution_count": 33,
   "id": "eVklq2T6QJvu",
   "metadata": {
    "id": "eVklq2T6QJvu"
   },
   "outputs": [],
   "source": [
    "df['STREET'].replace({\"Pavd\":\"Paved\",\"NoAccess\":\"No Access\"},inplace=True)"
   ]
  },
  {
   "cell_type": "code",
   "execution_count": 34,
   "id": "0YQ1DYZpQZyF",
   "metadata": {
    "colab": {
     "base_uri": "https://localhost:8080/"
    },
    "id": "0YQ1DYZpQZyF",
    "outputId": "163f4e40-b4ac-423e-ecb1-2d29ae48256c"
   },
   "outputs": [
    {
     "data": {
      "text/plain": [
       "Paved        2572\n",
       "Gravel       2520\n",
       "No Access    2017\n",
       "Name: STREET, dtype: int64"
      ]
     },
     "execution_count": 34,
     "metadata": {},
     "output_type": "execute_result"
    }
   ],
   "source": [
    "df.STREET.value_counts()"
   ]
  },
  {
   "cell_type": "markdown",
   "id": "Ybvvn4rlP8_e",
   "metadata": {
    "id": "Ybvvn4rlP8_e"
   },
   "source": [
    "Checking for no of occurrences in MZZONE Column"
   ]
  },
  {
   "cell_type": "code",
   "execution_count": 35,
   "id": "obKEic9POzKt",
   "metadata": {
    "colab": {
     "base_uri": "https://localhost:8080/"
    },
    "id": "obKEic9POzKt",
    "outputId": "e504c6eb-f2f3-4ffa-fd29-eddafbf7f0d4"
   },
   "outputs": [
    {
     "data": {
      "text/plain": [
       "RL    1858\n",
       "RH    1822\n",
       "RM    1817\n",
       "C      550\n",
       "A      537\n",
       "I      525\n",
       "Name: MZZONE, dtype: int64"
      ]
     },
     "execution_count": 35,
     "metadata": {},
     "output_type": "execute_result"
    }
   ],
   "source": [
    "df.MZZONE.value_counts()"
   ]
  },
  {
   "cell_type": "markdown",
   "id": "SQBk-M4BKMpk",
   "metadata": {
    "id": "SQBk-M4BKMpk"
   },
   "source": [
    "#Ploting the occurances of each data in the Categorical Columns\n"
   ]
  },
  {
   "cell_type": "markdown",
   "id": "KdW-AtHqV0m6",
   "metadata": {
    "id": "KdW-AtHqV0m6"
   },
   "source": [
    "No of Occurances in Area Column"
   ]
  },
  {
   "cell_type": "code",
   "execution_count": 36,
   "id": "xsj73yyUKL4Q",
   "metadata": {
    "colab": {
     "base_uri": "https://localhost:8080/",
     "height": 268
    },
    "id": "xsj73yyUKL4Q",
    "outputId": "95e75ed5-8b89-490a-d881-e1055f8370e0"
   },
   "outputs": [
    {
     "data": {
      "image/png": "[encoded data removed]",
      "text/plain": [
       "<Figure size 432x216 with 1 Axes>"
      ]
     },
     "metadata": {
      "needs_background": "light"
     },
     "output_type": "display_data"
    }
   ],
   "source": [
    "plt.figure(figsize=(6,3))\n",
    "plt.title(\"Area Vs Occurances\")\n",
    "df.AREA.value_counts().plot(kind='bar',color=\"cyan\")\n",
    "plt.xticks(rotation=45)\n",
    "plt.show()"
   ]
  },
  {
   "cell_type": "markdown",
   "id": "yVt0wF72WGJf",
   "metadata": {
    "id": "yVt0wF72WGJf"
   },
   "source": [
    "No of Occurances in SALE_COND Column"
   ]
  },
  {
   "cell_type": "code",
   "execution_count": 37,
   "id": "RjBHsoXCWHNP",
   "metadata": {
    "colab": {
     "base_uri": "https://localhost:8080/",
     "height": 227
    },
    "id": "RjBHsoXCWHNP",
    "outputId": "4afd4d74-e378-4d74-f30e-db11c8c3c4a0"
   },
   "outputs": [
    {
     "data": {
      "image/png": "[encoded data removed]",
      "text/plain": [
       "<Figure size 432x216 with 1 Axes>"
      ]
     },
     "metadata": {
      "needs_background": "light"
     },
     "output_type": "display_data"
    }
   ],
   "source": [
    "plt.figure(figsize=(6,3))\n",
    "plt.title(\"Sale Condition Vs Occurances\")\n",
    "df.SALE_COND.value_counts().plot(kind='bar',color=\"cyan\")\n",
    "plt.xticks(rotation=0)\n",
    "plt.show()"
   ]
  },
  {
   "cell_type": "markdown",
   "id": "gzCFprFhWHq3",
   "metadata": {
    "id": "gzCFprFhWHq3"
   },
   "source": [
    "No of Occurances in PARK_FACIL Column"
   ]
  },
  {
   "cell_type": "code",
   "execution_count": 38,
   "id": "HE2qNmFXWIUP",
   "metadata": {
    "colab": {
     "base_uri": "https://localhost:8080/",
     "height": 227
    },
    "id": "HE2qNmFXWIUP",
    "outputId": "c4ff5817-d0b9-496c-bdb8-bae937c5fc7e"
   },
   "outputs": [
    {
     "data": {
      "image/png": "[encoded data removed]",
      "text/plain": [
       "<Figure size 432x216 with 1 Axes>"
      ]
     },
     "metadata": {
      "needs_background": "light"
     },
     "output_type": "display_data"
    }
   ],
   "source": [
    "plt.figure(figsize=(6,3))\n",
    "plt.title(\"Parking Facility Vs Occurances\")\n",
    "df.PARK_FACIL.value_counts().plot(kind='bar',color=\"cyan\")\n",
    "plt.xticks(rotation=0)\n",
    "plt.show()"
   ]
  },
  {
   "cell_type": "markdown",
   "id": "8GxWiXuoWIte",
   "metadata": {
    "id": "8GxWiXuoWIte"
   },
   "source": [
    "No of Occurances in BUILDTYPE Column"
   ]
  },
  {
   "cell_type": "code",
   "execution_count": 39,
   "id": "1tTibKa2WJbO",
   "metadata": {
    "colab": {
     "base_uri": "https://localhost:8080/",
     "height": 227
    },
    "id": "1tTibKa2WJbO",
    "outputId": "ede1a97e-ffbf-4d49-f915-6d8189ac06bd"
   },
   "outputs": [
    {
     "data": {
      "image/png": "[encoded data removed]",
      "text/plain": [
       "<Figure size 432x216 with 1 Axes>"
      ]
     },
     "metadata": {
      "needs_background": "light"
     },
     "output_type": "display_data"
    }
   ],
   "source": [
    "plt.figure(figsize=(6,3))\n",
    "plt.title(\"Building Type Vs Occurances\")\n",
    "df.BUILDTYPE.value_counts().plot(kind='bar',color=\"cyan\")\n",
    "plt.xticks(rotation=0)\n",
    "plt.show()"
   ]
  },
  {
   "cell_type": "markdown",
   "id": "4up9qNdgWJqP",
   "metadata": {
    "id": "4up9qNdgWJqP"
   },
   "source": [
    "No of Occurances in UTILITY_AVAIL Column"
   ]
  },
  {
   "cell_type": "code",
   "execution_count": 40,
   "id": "6vVJN1riWKVG",
   "metadata": {
    "colab": {
     "base_uri": "https://localhost:8080/",
     "height": 227
    },
    "id": "6vVJN1riWKVG",
    "outputId": "90cc6fd3-be2c-4bdd-ec4f-20ed87fda085"
   },
   "outputs": [
    {
     "data": {
      "image/png": "[encoded data removed]",
      "text/plain": [
       "<Figure size 432x216 with 1 Axes>"
      ]
     },
     "metadata": {
      "needs_background": "light"
     },
     "output_type": "display_data"
    }
   ],
   "source": [
    "plt.figure(figsize=(6,3))\n",
    "plt.title(\"Utility Available Vs Occurances\")\n",
    "df.UTILITY_AVAIL.value_counts().plot(kind='bar',color=\"cyan\")\n",
    "plt.xticks(rotation=0)\n",
    "plt.show()"
   ]
  },
  {
   "cell_type": "markdown",
   "id": "MwfFi96YWKsv",
   "metadata": {
    "id": "MwfFi96YWKsv"
   },
   "source": [
    "No of Occurances in STREET Column"
   ]
  },
  {
   "cell_type": "code",
   "execution_count": 41,
   "id": "SCwMXdmTWMOH",
   "metadata": {
    "colab": {
     "base_uri": "https://localhost:8080/",
     "height": 227
    },
    "id": "SCwMXdmTWMOH",
    "outputId": "73cd3287-2c83-4ff1-9c41-685f0f285bd1"
   },
   "outputs": [
    {
     "data": {
      "image/png": "[encoded data removed]",
      "text/plain": [
       "<Figure size 432x216 with 1 Axes>"
      ]
     },
     "metadata": {
      "needs_background": "light"
     },
     "output_type": "display_data"
    }
   ],
   "source": [
    "plt.figure(figsize=(6,3))\n",
    "plt.title(\"Street Vs Occurances\")\n",
    "df.STREET.value_counts().plot(kind='bar',color=\"cyan\")\n",
    "plt.xticks(rotation=0)\n",
    "plt.show()"
   ]
  },
  {
   "cell_type": "markdown",
   "id": "1BQIk-84WMg-",
   "metadata": {
    "id": "1BQIk-84WMg-"
   },
   "source": [
    "No of Occurances in MZZONE Column"
   ]
  },
  {
   "cell_type": "code",
   "execution_count": 42,
   "id": "K_AehtdyWOpu",
   "metadata": {
    "colab": {
     "base_uri": "https://localhost:8080/",
     "height": 227
    },
    "id": "K_AehtdyWOpu",
    "outputId": "58737991-e222-43eb-e79c-7f0e49ff607c"
   },
   "outputs": [
    {
     "data": {
      "image/png": "[encoded data removed]",
      "text/plain": [
       "<Figure size 432x216 with 1 Axes>"
      ]
     },
     "metadata": {
      "needs_background": "light"
     },
     "output_type": "display_data"
    }
   ],
   "source": [
    "plt.figure(figsize=(6,3))\n",
    "plt.title(\"Zone Vs Occurances\")\n",
    "df.MZZONE.value_counts().plot(kind='bar',color=\"cyan\")\n",
    "plt.xticks(rotation=0)\n",
    "plt.show()"
   ]
  },
  {
   "cell_type": "markdown",
   "id": "yaieyhnYGRYd",
   "metadata": {
    "id": "yaieyhnYGRYd"
   },
   "source": [
    "#Plotting the relationship between Categorical Feature data's vs Target data"
   ]
  },
  {
   "cell_type": "code",
   "execution_count": 43,
   "id": "-5x1UqviLrsN",
   "metadata": {
    "colab": {
     "base_uri": "https://localhost:8080/"
    },
    "id": "-5x1UqviLrsN",
    "outputId": "887f2a9a-9ff6-4c76-ac8b-bbdb55dbdb22"
   },
   "outputs": [
    {
     "name": "stdout",
     "output_type": "stream",
     "text": [
      "Number of Categorical features:  7\n"
     ]
    }
   ],
   "source": [
    "catdata = df.dtypes[df.dtypes == \"object\"].index\n",
    "print(\"Number of Categorical features: \", len(catdata))"
   ]
  },
  {
   "cell_type": "code",
   "execution_count": 44,
   "id": "efJtxHPCL2fg",
   "metadata": {
    "colab": {
     "base_uri": "https://localhost:8080/"
    },
    "id": "efJtxHPCL2fg",
    "outputId": "0280697a-bcc6-407b-cb73-31f79aee98fe"
   },
   "outputs": [
    {
     "data": {
      "text/plain": [
       "Index(['AREA', 'SALE_COND', 'PARK_FACIL', 'BUILDTYPE', 'UTILITY_AVAIL',\n",
       "       'STREET', 'MZZONE'],\n",
       "      dtype='object')"
      ]
     },
     "execution_count": 44,
     "metadata": {},
     "output_type": "execute_result"
    }
   ],
   "source": [
    "catdata"
   ]
  },
  {
   "cell_type": "markdown",
   "id": "VRjPIi4FC880",
   "metadata": {
    "id": "VRjPIi4FC880"
   },
   "source": [
    "Arranging the Area column with respect to Sales Price and plotting the data"
   ]
  },
  {
   "cell_type": "code",
   "execution_count": 45,
   "id": "rUX2svXlBxID",
   "metadata": {
    "id": "rUX2svXlBxID"
   },
   "outputs": [],
   "source": [
    "result=df.groupby([\"AREA\"])['SALES_PRICE'].mean().reset_index().sort_values(\"SALES_PRICE\")"
   ]
  },
  {
   "cell_type": "markdown",
   "id": "kLT-7yk4DQXe",
   "metadata": {
    "id": "kLT-7yk4DQXe"
   },
   "source": [
    "Plotting the relation between AREA and Sales Price\n",
    "\n"
   ]
  },
  {
   "cell_type": "code",
   "execution_count": 46,
   "id": "5mD94E1m4aTb",
   "metadata": {
    "colab": {
     "base_uri": "https://localhost:8080/",
     "height": 341
    },
    "id": "5mD94E1m4aTb",
    "outputId": "96eaee2c-0acf-4e7e-fba3-2dee0142805b"
   },
   "outputs": [
    {
     "data": {
      "image/png": "[encoded data removed]",
      "text/plain": [
       "<Figure size 504x288 with 1 Axes>"
      ]
     },
     "metadata": {
      "needs_background": "light"
     },
     "output_type": "display_data"
    }
   ],
   "source": [
    "plt.figure(figsize=(7,4))\n",
    "plt.title(\"Area vs Sales price\", fontsize=16, va='bottom')\n",
    "br1=sns.barplot(x='AREA',y=\"SALES_PRICE\", data=result)\n",
    "plt.xticks(rotation=45)\n",
    "plt.show()"
   ]
  },
  {
   "cell_type": "markdown",
   "id": "0biasB6nDahc",
   "metadata": {
    "id": "0biasB6nDahc"
   },
   "source": [
    "From the above Graph,\n",
    "\n",
    "\n",
    "*   There is a Linear relationship between AREA(Feature) and Sales price(Target)\n",
    "*   We will go for label encoding for AREA column\n",
    "*   Karapakkam has least value and T Nagr has the highest value.\n",
    "\n"
   ]
  },
  {
   "cell_type": "markdown",
   "id": "ZmwNdre8BP3R",
   "metadata": {
    "id": "ZmwNdre8BP3R"
   },
   "source": [
    "Plotting the relation between Sale Condition and Sales Price"
   ]
  },
  {
   "cell_type": "code",
   "execution_count": 47,
   "id": "T9YKPkHZBs-Q",
   "metadata": {
    "id": "T9YKPkHZBs-Q"
   },
   "outputs": [],
   "source": [
    "result=df.groupby([\"SALE_COND\"])['SALES_PRICE'].mean().reset_index().sort_values(\"SALES_PRICE\")"
   ]
  },
  {
   "cell_type": "code",
   "execution_count": 48,
   "id": "j4bkSQOaBPmb",
   "metadata": {
    "colab": {
     "base_uri": "https://localhost:8080/",
     "height": 301
    },
    "id": "j4bkSQOaBPmb",
    "outputId": "1ed8a85f-0523-4cf6-8ab2-d40cbe927008"
   },
   "outputs": [
    {
     "data": {
      "image/png": "[encoded data removed]",
      "text/plain": [
       "<Figure size 504x288 with 1 Axes>"
      ]
     },
     "metadata": {
      "needs_background": "light"
     },
     "output_type": "display_data"
    }
   ],
   "source": [
    "plt.figure(figsize=(7,4))\n",
    "plt.title(\"Sale Condition vs Sales price\", fontsize=16, va='bottom')\n",
    "br1=sns.barplot(x='SALE_COND',y=\"SALES_PRICE\", data=result)\n",
    "plt.xticks(rotation=0)\n",
    "plt.show()"
   ]
  },
  {
   "cell_type": "markdown",
   "id": "8AG2Uhi_FxJH",
   "metadata": {
    "id": "8AG2Uhi_FxJH"
   },
   "source": [
    "From the above Graph,\n",
    "\n",
    "*   Houses that had adjoining land were sold for a higher price\n",
    "*   Partial had the lowest price\n",
    "*   We will go for label encoding for SALE_COND column\n",
    "\n",
    "\n",
    "\n"
   ]
  },
  {
   "cell_type": "markdown",
   "id": "zEb_qvbNB8Wi",
   "metadata": {
    "id": "zEb_qvbNB8Wi"
   },
   "source": [
    "Plotting the relation between Park Facility and Sales Price\n",
    "\n",
    "\n",
    "\n"
   ]
  },
  {
   "cell_type": "code",
   "execution_count": 49,
   "id": "PKc9hP14ChHx",
   "metadata": {
    "id": "PKc9hP14ChHx"
   },
   "outputs": [],
   "source": [
    "result=df.groupby([\"PARK_FACIL\"])['SALES_PRICE'].mean().reset_index().sort_values(\"SALES_PRICE\")"
   ]
  },
  {
   "cell_type": "code",
   "execution_count": 50,
   "id": "WnM6DR3xCg1O",
   "metadata": {
    "colab": {
     "base_uri": "https://localhost:8080/",
     "height": 301
    },
    "id": "WnM6DR3xCg1O",
    "outputId": "6979411c-3c34-488a-8518-34d8af7bc25b"
   },
   "outputs": [
    {
     "data": {
      "image/png": "[encoded data removed]",
      "text/plain": [
       "<Figure size 504x288 with 1 Axes>"
      ]
     },
     "metadata": {
      "needs_background": "light"
     },
     "output_type": "display_data"
    }
   ],
   "source": [
    "plt.figure(figsize=(7,4))\n",
    "plt.title(\"Park Facility vs Sales price\", fontsize=16, va='bottom')\n",
    "br1=sns.barplot(x='PARK_FACIL',y=\"SALES_PRICE\", data=result)\n",
    "plt.xticks(rotation=0)\n",
    "plt.show()"
   ]
  },
  {
   "cell_type": "markdown",
   "id": "yD_KrbpuGNka",
   "metadata": {
    "id": "yD_KrbpuGNka"
   },
   "source": [
    "From the above Graph,\n",
    "*   Houses with parking facilities has higher sale price\n",
    "*We will go for One hot encoding for PARK_FACIL column\n",
    "\n"
   ]
  },
  {
   "cell_type": "markdown",
   "id": "QS0annQXCAAw",
   "metadata": {
    "id": "QS0annQXCAAw"
   },
   "source": [
    "Plotting the relation between Build type and Sales Price"
   ]
  },
  {
   "cell_type": "code",
   "execution_count": 51,
   "id": "J1bQvYGRCCm0",
   "metadata": {
    "id": "J1bQvYGRCCm0"
   },
   "outputs": [],
   "source": [
    "result=df.groupby([\"BUILDTYPE\"])['SALES_PRICE'].mean().reset_index().sort_values(\"SALES_PRICE\")"
   ]
  },
  {
   "cell_type": "code",
   "execution_count": 52,
   "id": "tNCSyKIGC7pA",
   "metadata": {
    "colab": {
     "base_uri": "https://localhost:8080/",
     "height": 300
    },
    "id": "tNCSyKIGC7pA",
    "outputId": "fce59e01-72f5-4b56-dd1b-324b39a908f9"
   },
   "outputs": [
    {
     "data": {
      "image/png": "[encoded data removed]",
      "text/plain": [
       "<Figure size 504x288 with 1 Axes>"
      ]
     },
     "metadata": {
      "needs_background": "light"
     },
     "output_type": "display_data"
    }
   ],
   "source": [
    "plt.figure(figsize=(7,4))\n",
    "plt.title(\"Building Type vs Sales price\", fontsize=16, va='bottom')\n",
    "br1=sns.barplot(x='BUILDTYPE',y=\"SALES_PRICE\", data=result)\n",
    "plt.xticks(rotation=0)\n",
    "plt.show()"
   ]
  },
  {
   "cell_type": "markdown",
   "id": "EsCTPBRBGcSI",
   "metadata": {
    "id": "EsCTPBRBGcSI"
   },
   "source": [
    "From the above Graph,\n",
    "*  Commercial type houses has higher sale price  \n",
    "*  Normal house type has lower sale price\n",
    "*We will go for label encoding for BUILDTYPE column\n",
    "\n"
   ]
  },
  {
   "cell_type": "markdown",
   "id": "3t-ogyNtCDWZ",
   "metadata": {
    "id": "3t-ogyNtCDWZ"
   },
   "source": [
    "Plotting the relation between Utility Available and Sales Price"
   ]
  },
  {
   "cell_type": "code",
   "execution_count": 53,
   "id": "_2WVJq8CEqhH",
   "metadata": {
    "id": "_2WVJq8CEqhH"
   },
   "outputs": [],
   "source": [
    "result=df.groupby([\"UTILITY_AVAIL\"])['SALES_PRICE'].mean().reset_index().sort_values(\"SALES_PRICE\")"
   ]
  },
  {
   "cell_type": "code",
   "execution_count": 54,
   "id": "X3ir5_0jEqPY",
   "metadata": {
    "colab": {
     "base_uri": "https://localhost:8080/",
     "height": 301
    },
    "id": "X3ir5_0jEqPY",
    "outputId": "bf55c98b-dcc0-4cca-bc97-ad7334bccac6"
   },
   "outputs": [
    {
     "data": {
      "image/png": "[encoded data removed]",
      "text/plain": [
       "<Figure size 504x288 with 1 Axes>"
      ]
     },
     "metadata": {
      "needs_background": "light"
     },
     "output_type": "display_data"
    }
   ],
   "source": [
    "plt.figure(figsize=(7,4))\n",
    "plt.title(\"Utility Available vs Sales price\", fontsize=16, va='bottom')\n",
    "br1=sns.barplot(x='UTILITY_AVAIL',y=\"SALES_PRICE\", data=result)\n",
    "plt.xticks(rotation=0)\n",
    "plt.show()"
   ]
  },
  {
   "cell_type": "markdown",
   "id": "nkvKfwVvG1SW",
   "metadata": {
    "id": "nkvKfwVvG1SW"
   },
   "source": [
    "From the above Graph,\n",
    "\n",
    "*   Houses that has AllPub access has a higher sale price.\n",
    "*We will go for label encoding for UTILITY_AVAIL column\n",
    "\n",
    "\n"
   ]
  },
  {
   "cell_type": "markdown",
   "id": "2M7ACWA4CEfX",
   "metadata": {
    "id": "2M7ACWA4CEfX"
   },
   "source": [
    "Plotting the relation between Type of Street and Sales Price"
   ]
  },
  {
   "cell_type": "code",
   "execution_count": 55,
   "id": "tbrD_90UErip",
   "metadata": {
    "id": "tbrD_90UErip"
   },
   "outputs": [],
   "source": [
    "result=df.groupby([\"STREET\"])['SALES_PRICE'].mean().reset_index().sort_values(\"SALES_PRICE\")"
   ]
  },
  {
   "cell_type": "code",
   "execution_count": 56,
   "id": "6K-jAROTErW7",
   "metadata": {
    "colab": {
     "base_uri": "https://localhost:8080/",
     "height": 300
    },
    "id": "6K-jAROTErW7",
    "outputId": "45ceccea-2620-4a98-dc33-9fb93be11fde"
   },
   "outputs": [
    {
     "data": {
      "image/png": "[encoded data removed]",
      "text/plain": [
       "<Figure size 504x288 with 1 Axes>"
      ]
     },
     "metadata": {
      "needs_background": "light"
     },
     "output_type": "display_data"
    }
   ],
   "source": [
    "plt.figure(figsize=(7,4))\n",
    "plt.title(\"Street type vs Sales price\", fontsize=16, va='bottom')\n",
    "br1=sns.barplot(x='STREET',y=\"SALES_PRICE\", data=result)\n",
    "plt.xticks(rotation=0)\n",
    "plt.show()"
   ]
  },
  {
   "cell_type": "markdown",
   "id": "qPUe8nJtHjJ5",
   "metadata": {
    "id": "qPUe8nJtHjJ5"
   },
   "source": [
    "From the above Graph,\n",
    "*   Gravelled streets has a higher sale price\n",
    "*   No Access streets has lower sale price\n",
    "*We will go for label encoding for STREET column\n",
    "\n"
   ]
  },
  {
   "cell_type": "markdown",
   "id": "CltORgp4H8m3",
   "metadata": {
    "id": "CltORgp4H8m3"
   },
   "source": [
    "Plotting the relation between Zone and Sales Price"
   ]
  },
  {
   "cell_type": "code",
   "execution_count": 57,
   "id": "ra6EonR-EsOW",
   "metadata": {
    "id": "ra6EonR-EsOW"
   },
   "outputs": [],
   "source": [
    "result=df.groupby([\"MZZONE\"])['SALES_PRICE'].mean().reset_index().sort_values(\"SALES_PRICE\")"
   ]
  },
  {
   "cell_type": "code",
   "execution_count": 58,
   "id": "6Yqbymz_EsE2",
   "metadata": {
    "colab": {
     "base_uri": "https://localhost:8080/",
     "height": 300
    },
    "id": "6Yqbymz_EsE2",
    "outputId": "86511725-f5f0-48d1-8f0b-4bea4c4d7b2e"
   },
   "outputs": [
    {
     "data": {
      "image/png": "[encoded data removed]",
      "text/plain": [
       "<Figure size 504x288 with 1 Axes>"
      ]
     },
     "metadata": {
      "needs_background": "light"
     },
     "output_type": "display_data"
    }
   ],
   "source": [
    "plt.figure(figsize=(7,4))\n",
    "plt.title(\"Zone vs Sales price\", fontsize=16, va='bottom')\n",
    "br1=sns.barplot(x='MZZONE',y=\"SALES_PRICE\", data=result)\n",
    "plt.xticks(rotation=0)\n",
    "plt.show()"
   ]
  },
  {
   "cell_type": "markdown",
   "id": "pD8FZqV2IDio",
   "metadata": {
    "id": "pD8FZqV2IDio"
   },
   "source": [
    "From the above Graph,\n",
    "*   Zone RM has high sales price\n",
    "*   Zone A has the lowest sales price\n",
    "*We will go for label encoding for MZZONE column\n",
    "\n",
    "\n",
    "\n"
   ]
  },
  {
   "cell_type": "markdown",
   "id": "oNWetGEJMC38",
   "metadata": {
    "id": "oNWetGEJMC38"
   },
   "source": [
    "#Plotting the distribution of Numerical data's"
   ]
  },
  {
   "cell_type": "code",
   "execution_count": 59,
   "id": "hPe6X53kPFOU",
   "metadata": {
    "colab": {
     "base_uri": "https://localhost:8080/"
    },
    "id": "hPe6X53kPFOU",
    "outputId": "82246706-e5fd-4d87-fe92-c5aad7cced04"
   },
   "outputs": [
    {
     "name": "stdout",
     "output_type": "stream",
     "text": [
      "Number of Numerical features:  11\n"
     ]
    }
   ],
   "source": [
    "numdata = df.dtypes[df.dtypes != \"object\"].index\n",
    "print(\"Number of Numerical features: \", len(numdata))"
   ]
  },
  {
   "cell_type": "code",
   "execution_count": 60,
   "id": "GKb2Wzn9PE9Y",
   "metadata": {
    "colab": {
     "base_uri": "https://localhost:8080/"
    },
    "id": "GKb2Wzn9PE9Y",
    "outputId": "9ea98e42-856b-4c2a-b650-52700ea7782f"
   },
   "outputs": [
    {
     "data": {
      "text/plain": [
       "Index(['INT_SQFT', 'DIST_MAINROAD', 'N_BEDROOM', 'N_BATHROOM', 'N_ROOM',\n",
       "       'QS_ROOMS', 'QS_BATHROOM', 'QS_BEDROOM', 'QS_OVERALL', 'SALES_PRICE',\n",
       "       'BUILDING_AGE'],\n",
       "      dtype='object')"
      ]
     },
     "execution_count": 60,
     "metadata": {},
     "output_type": "execute_result"
    }
   ],
   "source": [
    "numdata"
   ]
  },
  {
   "cell_type": "code",
   "execution_count": 61,
   "id": "fNDSLCPkMRjQ",
   "metadata": {
    "colab": {
     "base_uri": "https://localhost:8080/",
     "height": 637
    },
    "id": "fNDSLCPkMRjQ",
    "outputId": "396ef06d-3e93-4bc8-adb4-1d8b576ec1ae"
   },
   "outputs": [
    {
     "data": {
      "text/plain": [
       "<Figure size 504x288 with 0 Axes>"
      ]
     },
     "metadata": {},
     "output_type": "display_data"
    },
    {
     "data": {
      "image/png": "[encoded data removed]",
      "text/plain": [
       "<Figure size 1440x720 with 12 Axes>"
      ]
     },
     "metadata": {
      "needs_background": "light"
     },
     "output_type": "display_data"
    }
   ],
   "source": [
    "plt.figure(figsize=(7,4))\n",
    "df[numdata].hist(bins=20, figsize=(20, 10))\n",
    "plt.xticks(rotation=25)\n",
    "plt.show()"
   ]
  },
  {
   "cell_type": "markdown",
   "id": "t1U1OrqfPMrA",
   "metadata": {
    "id": "t1U1OrqfPMrA"
   },
   "source": [
    "The above Histograms show the distribution of each Numerical Feature"
   ]
  },
  {
   "cell_type": "markdown",
   "id": "FMqW9VkkPgg0",
   "metadata": {
    "id": "FMqW9VkkPgg0"
   },
   "source": [
    "#Analysing the relation between Numerical Features and the Target Feature"
   ]
  },
  {
   "cell_type": "code",
   "execution_count": 62,
   "id": "rwzA1yFDJZ7-",
   "metadata": {
    "colab": {
     "base_uri": "https://localhost:8080/",
     "height": 1000
    },
    "id": "rwzA1yFDJZ7-",
    "outputId": "5185dd8e-c31d-41fa-a571-4e59310b0201"
   },
   "outputs": [
    {
     "data": {
      "image/png": "[encoded data removed]",
      "text/plain": [
       "<Figure size 432x288 with 1 Axes>"
      ]
     },
     "metadata": {
      "needs_background": "light"
     },
     "output_type": "display_data"
    },
    {
     "data": {
      "image/png": "[encoded data removed]",
      "text/plain": [
       "<Figure size 432x288 with 1 Axes>"
      ]
     },
     "metadata": {
      "needs_background": "light"
     },
     "output_type": "display_data"
    },
    {
     "data": {
      "image/png": "[encoded data removed]",
      "text/plain": [
       "<Figure size 432x288 with 1 Axes>"
      ]
     },
     "metadata": {
      "needs_background": "light"
     },
     "output_type": "display_data"
    },
    {
     "data": {
      "image/png": "[encoded data removed]",
      "text/plain": [
       "<Figure size 432x288 with 1 Axes>"
      ]
     },
     "metadata": {
      "needs_background": "light"
     },
     "output_type": "display_data"
    },
    {
     "data": {
      "image/png": "[encoded data removed]",
      "text/plain": [
       "<Figure size 432x288 with 1 Axes>"
      ]
     },
     "metadata": {
      "needs_background": "light"
     },
     "output_type": "display_data"
    },
    {
     "data": {
      "image/png": "[encoded data removed]",
      "text/plain": [
       "<Figure size 432x288 with 1 Axes>"
      ]
     },
     "metadata": {
      "needs_background": "light"
     },
     "output_type": "display_data"
    },
    {
     "data": {
      "image/png": "[encoded data removed]",
      "text/plain": [
       "<Figure size 432x288 with 1 Axes>"
      ]
     },
     "metadata": {
      "needs_background": "light"
     },
     "output_type": "display_data"
    },
    {
     "data": {
      "image/png": "[encoded data removed]",
      "text/plain": [
       "<Figure size 432x288 with 1 Axes>"
      ]
     },
     "metadata": {
      "needs_background": "light"
     },
     "output_type": "display_data"
    },
    {
     "data": {
      "image/png": "[encoded data removed]",
      "text/plain": [
       "<Figure size 432x288 with 1 Axes>"
      ]
     },
     "metadata": {
      "needs_background": "light"
     },
     "output_type": "display_data"
    },
    {
     "data": {
      "image/png": "[encoded data removed]",
      "text/plain": [
       "<Figure size 432x288 with 1 Axes>"
      ]
     },
     "metadata": {
      "needs_background": "light"
     },
     "output_type": "display_data"
    },
    {
     "data": {
      "image/png": "[encoded data removed]",
      "text/plain": [
       "<Figure size 432x288 with 1 Axes>"
      ]
     },
     "metadata": {
      "needs_background": "light"
     },
     "output_type": "display_data"
    }
   ],
   "source": [
    "for i in df[numdata]:\n",
    "  sns.lineplot(x= df[i], y= df['SALES_PRICE'],data = df)\n",
    "  plt.show()"
   ]
  },
  {
   "cell_type": "markdown",
   "id": "G8tlKQrsP14k",
   "metadata": {
    "id": "G8tlKQrsP14k"
   },
   "source": [
    "From the above Graph,\n",
    "*   There is a linear relationship between Interior SQFT and No of Bathrooms,Bedroom  and total rooms\n",
    "*   Other features doesnot show any linear relationship"
   ]
  },
  {
   "cell_type": "markdown",
   "id": "0p46lUHGTiyY",
   "metadata": {
    "id": "0p46lUHGTiyY"
   },
   "source": [
    "#Applying One hot Encoding to categorical Variables"
   ]
  },
  {
   "cell_type": "code",
   "execution_count": 63,
   "id": "-jDjocidVFYD",
   "metadata": {
    "colab": {
     "base_uri": "https://localhost:8080/"
    },
    "id": "-jDjocidVFYD",
    "outputId": "651c43e9-0cd5-40a1-b095-036ca1d72ff9"
   },
   "outputs": [
    {
     "name": "stdout",
     "output_type": "stream",
     "text": [
      "Number of Categorical features:  7\n"
     ]
    }
   ],
   "source": [
    "df1=df\n",
    "catdata1 = df.dtypes[df.dtypes == \"object\"].index\n",
    "print(\"Number of Categorical features: \", len(catdata1))"
   ]
  },
  {
   "cell_type": "code",
   "execution_count": 64,
   "id": "jETQNrmCVI0a",
   "metadata": {
    "colab": {
     "base_uri": "https://localhost:8080/",
     "height": 317
    },
    "id": "jETQNrmCVI0a",
    "outputId": "721db9d5-ee40-4e53-af80-c7c5c6d14ec2"
   },
   "outputs": [
    {
     "data": {
      "text/html": [
       "<div>\n",
       "<style scoped>\n",
       "    .dataframe tbody tr th:only-of-type {\n",
       "        vertical-align: middle;\n",
       "    }\n",
       "\n",
       "    .dataframe tbody tr th {\n",
       "        vertical-align: top;\n",
       "    }\n",
       "\n",
       "    .dataframe thead th {\n",
       "        text-align: right;\n",
       "    }\n",
       "</style>\n",
       "<table border=\"1\" class=\"dataframe\">\n",
       "  <thead>\n",
       "    <tr style=\"text-align: right;\">\n",
       "      <th></th>\n",
       "      <th>INT_SQFT</th>\n",
       "      <th>DIST_MAINROAD</th>\n",
       "      <th>N_BEDROOM</th>\n",
       "      <th>N_BATHROOM</th>\n",
       "      <th>N_ROOM</th>\n",
       "      <th>QS_ROOMS</th>\n",
       "      <th>QS_BATHROOM</th>\n",
       "      <th>QS_BEDROOM</th>\n",
       "      <th>QS_OVERALL</th>\n",
       "      <th>SALES_PRICE</th>\n",
       "      <th>...</th>\n",
       "      <th>UTILITY_AVAIL_ELO</th>\n",
       "      <th>UTILITY_AVAIL_NoSeWa</th>\n",
       "      <th>UTILITY_AVAIL_NoSewr</th>\n",
       "      <th>STREET_No Access</th>\n",
       "      <th>STREET_Paved</th>\n",
       "      <th>MZZONE_C</th>\n",
       "      <th>MZZONE_I</th>\n",
       "      <th>MZZONE_RH</th>\n",
       "      <th>MZZONE_RL</th>\n",
       "      <th>MZZONE_RM</th>\n",
       "    </tr>\n",
       "  </thead>\n",
       "  <tbody>\n",
       "    <tr>\n",
       "      <th>0</th>\n",
       "      <td>1004</td>\n",
       "      <td>131</td>\n",
       "      <td>1</td>\n",
       "      <td>1</td>\n",
       "      <td>3</td>\n",
       "      <td>4.0</td>\n",
       "      <td>3.9</td>\n",
       "      <td>4.9</td>\n",
       "      <td>4.330</td>\n",
       "      <td>7600000</td>\n",
       "      <td>...</td>\n",
       "      <td>0</td>\n",
       "      <td>0</td>\n",
       "      <td>0</td>\n",
       "      <td>0</td>\n",
       "      <td>1</td>\n",
       "      <td>0</td>\n",
       "      <td>0</td>\n",
       "      <td>0</td>\n",
       "      <td>0</td>\n",
       "      <td>0</td>\n",
       "    </tr>\n",
       "    <tr>\n",
       "      <th>1</th>\n",
       "      <td>1986</td>\n",
       "      <td>26</td>\n",
       "      <td>2</td>\n",
       "      <td>1</td>\n",
       "      <td>5</td>\n",
       "      <td>4.9</td>\n",
       "      <td>4.2</td>\n",
       "      <td>2.5</td>\n",
       "      <td>3.765</td>\n",
       "      <td>21717770</td>\n",
       "      <td>...</td>\n",
       "      <td>0</td>\n",
       "      <td>0</td>\n",
       "      <td>0</td>\n",
       "      <td>0</td>\n",
       "      <td>0</td>\n",
       "      <td>0</td>\n",
       "      <td>0</td>\n",
       "      <td>1</td>\n",
       "      <td>0</td>\n",
       "      <td>0</td>\n",
       "    </tr>\n",
       "    <tr>\n",
       "      <th>2</th>\n",
       "      <td>909</td>\n",
       "      <td>70</td>\n",
       "      <td>1</td>\n",
       "      <td>1</td>\n",
       "      <td>3</td>\n",
       "      <td>4.1</td>\n",
       "      <td>3.8</td>\n",
       "      <td>2.2</td>\n",
       "      <td>3.090</td>\n",
       "      <td>13159200</td>\n",
       "      <td>...</td>\n",
       "      <td>1</td>\n",
       "      <td>0</td>\n",
       "      <td>0</td>\n",
       "      <td>0</td>\n",
       "      <td>0</td>\n",
       "      <td>0</td>\n",
       "      <td>0</td>\n",
       "      <td>0</td>\n",
       "      <td>1</td>\n",
       "      <td>0</td>\n",
       "    </tr>\n",
       "    <tr>\n",
       "      <th>3</th>\n",
       "      <td>1855</td>\n",
       "      <td>14</td>\n",
       "      <td>3</td>\n",
       "      <td>2</td>\n",
       "      <td>5</td>\n",
       "      <td>4.7</td>\n",
       "      <td>3.9</td>\n",
       "      <td>3.6</td>\n",
       "      <td>4.010</td>\n",
       "      <td>9630290</td>\n",
       "      <td>...</td>\n",
       "      <td>0</td>\n",
       "      <td>0</td>\n",
       "      <td>1</td>\n",
       "      <td>0</td>\n",
       "      <td>1</td>\n",
       "      <td>0</td>\n",
       "      <td>1</td>\n",
       "      <td>0</td>\n",
       "      <td>0</td>\n",
       "      <td>0</td>\n",
       "    </tr>\n",
       "    <tr>\n",
       "      <th>4</th>\n",
       "      <td>1226</td>\n",
       "      <td>84</td>\n",
       "      <td>1</td>\n",
       "      <td>1</td>\n",
       "      <td>3</td>\n",
       "      <td>3.0</td>\n",
       "      <td>2.5</td>\n",
       "      <td>4.1</td>\n",
       "      <td>3.290</td>\n",
       "      <td>7406250</td>\n",
       "      <td>...</td>\n",
       "      <td>0</td>\n",
       "      <td>0</td>\n",
       "      <td>0</td>\n",
       "      <td>0</td>\n",
       "      <td>0</td>\n",
       "      <td>1</td>\n",
       "      <td>0</td>\n",
       "      <td>0</td>\n",
       "      <td>0</td>\n",
       "      <td>0</td>\n",
       "    </tr>\n",
       "  </tbody>\n",
       "</table>\n",
       "<p>5 rows × 34 columns</p>\n",
       "</div>"
      ],
      "text/plain": [
       "   INT_SQFT  DIST_MAINROAD  N_BEDROOM  N_BATHROOM  N_ROOM  QS_ROOMS  \\\n",
       "0      1004            131          1           1       3       4.0   \n",
       "1      1986             26          2           1       5       4.9   \n",
       "2       909             70          1           1       3       4.1   \n",
       "3      1855             14          3           2       5       4.7   \n",
       "4      1226             84          1           1       3       3.0   \n",
       "\n",
       "   QS_BATHROOM  QS_BEDROOM  QS_OVERALL  SALES_PRICE  ...  UTILITY_AVAIL_ELO  \\\n",
       "0          3.9         4.9       4.330      7600000  ...                  0   \n",
       "1          4.2         2.5       3.765     21717770  ...                  0   \n",
       "2          3.8         2.2       3.090     13159200  ...                  1   \n",
       "3          3.9         3.6       4.010      9630290  ...                  0   \n",
       "4          2.5         4.1       3.290      7406250  ...                  0   \n",
       "\n",
       "   UTILITY_AVAIL_NoSeWa  UTILITY_AVAIL_NoSewr   STREET_No Access  \\\n",
       "0                     0                      0                 0   \n",
       "1                     0                      0                 0   \n",
       "2                     0                      0                 0   \n",
       "3                     0                      1                 0   \n",
       "4                     0                      0                 0   \n",
       "\n",
       "   STREET_Paved  MZZONE_C  MZZONE_I  MZZONE_RH  MZZONE_RL  MZZONE_RM  \n",
       "0             1         0         0          0          0          0  \n",
       "1             0         0         0          1          0          0  \n",
       "2             0         0         0          0          1          0  \n",
       "3             1         0         1          0          0          0  \n",
       "4             0         1         0          0          0          0  \n",
       "\n",
       "[5 rows x 34 columns]"
      ]
     },
     "execution_count": 64,
     "metadata": {},
     "output_type": "execute_result"
    }
   ],
   "source": [
    "df1 = pd.get_dummies(df,drop_first=True)\n",
    "df1.head()"
   ]
  },
  {
   "cell_type": "code",
   "execution_count": 65,
   "id": "WaMACVq7Xqz7",
   "metadata": {
    "colab": {
     "base_uri": "https://localhost:8080/",
     "height": 1000
    },
    "id": "WaMACVq7Xqz7",
    "outputId": "d02b15c5-28ce-4454-af60-3678712e7b57"
   },
   "outputs": [
    {
     "data": {
      "text/html": [
       "<div>\n",
       "<style scoped>\n",
       "    .dataframe tbody tr th:only-of-type {\n",
       "        vertical-align: middle;\n",
       "    }\n",
       "\n",
       "    .dataframe tbody tr th {\n",
       "        vertical-align: top;\n",
       "    }\n",
       "\n",
       "    .dataframe thead th {\n",
       "        text-align: right;\n",
       "    }\n",
       "</style>\n",
       "<table border=\"1\" class=\"dataframe\">\n",
       "  <thead>\n",
       "    <tr style=\"text-align: right;\">\n",
       "      <th></th>\n",
       "      <th>INT_SQFT</th>\n",
       "      <th>DIST_MAINROAD</th>\n",
       "      <th>N_BEDROOM</th>\n",
       "      <th>N_BATHROOM</th>\n",
       "      <th>N_ROOM</th>\n",
       "      <th>QS_ROOMS</th>\n",
       "      <th>QS_BATHROOM</th>\n",
       "      <th>QS_BEDROOM</th>\n",
       "      <th>QS_OVERALL</th>\n",
       "      <th>SALES_PRICE</th>\n",
       "      <th>...</th>\n",
       "      <th>UTILITY_AVAIL_ELO</th>\n",
       "      <th>UTILITY_AVAIL_NoSeWa</th>\n",
       "      <th>UTILITY_AVAIL_NoSewr</th>\n",
       "      <th>STREET_No Access</th>\n",
       "      <th>STREET_Paved</th>\n",
       "      <th>MZZONE_C</th>\n",
       "      <th>MZZONE_I</th>\n",
       "      <th>MZZONE_RH</th>\n",
       "      <th>MZZONE_RL</th>\n",
       "      <th>MZZONE_RM</th>\n",
       "    </tr>\n",
       "  </thead>\n",
       "  <tbody>\n",
       "    <tr>\n",
       "      <th>INT_SQFT</th>\n",
       "      <td>1.000000</td>\n",
       "      <td>0.002022</td>\n",
       "      <td>0.786263</td>\n",
       "      <td>0.515290</td>\n",
       "      <td>0.951279</td>\n",
       "      <td>0.019850</td>\n",
       "      <td>-0.008337</td>\n",
       "      <td>0.008865</td>\n",
       "      <td>0.013989</td>\n",
       "      <td>0.612125</td>\n",
       "      <td>...</td>\n",
       "      <td>-0.089793</td>\n",
       "      <td>0.025290</td>\n",
       "      <td>0.030922</td>\n",
       "      <td>-0.113160</td>\n",
       "      <td>0.060426</td>\n",
       "      <td>-0.084035</td>\n",
       "      <td>-0.078290</td>\n",
       "      <td>0.033044</td>\n",
       "      <td>0.067795</td>\n",
       "      <td>0.053017</td>\n",
       "    </tr>\n",
       "    <tr>\n",
       "      <th>DIST_MAINROAD</th>\n",
       "      <td>0.002022</td>\n",
       "      <td>1.000000</td>\n",
       "      <td>-0.002723</td>\n",
       "      <td>0.001850</td>\n",
       "      <td>0.002301</td>\n",
       "      <td>0.002237</td>\n",
       "      <td>-0.029468</td>\n",
       "      <td>0.001554</td>\n",
       "      <td>-0.017255</td>\n",
       "      <td>0.018783</td>\n",
       "      <td>...</td>\n",
       "      <td>0.012707</td>\n",
       "      <td>-0.014840</td>\n",
       "      <td>0.011974</td>\n",
       "      <td>-0.009223</td>\n",
       "      <td>0.014090</td>\n",
       "      <td>-0.008996</td>\n",
       "      <td>0.009730</td>\n",
       "      <td>0.007454</td>\n",
       "      <td>0.008959</td>\n",
       "      <td>-0.007888</td>\n",
       "    </tr>\n",
       "    <tr>\n",
       "      <th>N_BEDROOM</th>\n",
       "      <td>0.786263</td>\n",
       "      <td>-0.002723</td>\n",
       "      <td>1.000000</td>\n",
       "      <td>0.755207</td>\n",
       "      <td>0.840209</td>\n",
       "      <td>0.014948</td>\n",
       "      <td>-0.007534</td>\n",
       "      <td>0.015752</td>\n",
       "      <td>0.014245</td>\n",
       "      <td>0.330987</td>\n",
       "      <td>...</td>\n",
       "      <td>-0.111240</td>\n",
       "      <td>0.031149</td>\n",
       "      <td>0.038896</td>\n",
       "      <td>-0.140196</td>\n",
       "      <td>0.069205</td>\n",
       "      <td>-0.017259</td>\n",
       "      <td>-0.014333</td>\n",
       "      <td>-0.010636</td>\n",
       "      <td>0.040104</td>\n",
       "      <td>0.013931</td>\n",
       "    </tr>\n",
       "    <tr>\n",
       "      <th>N_BATHROOM</th>\n",
       "      <td>0.515290</td>\n",
       "      <td>0.001850</td>\n",
       "      <td>0.755207</td>\n",
       "      <td>1.000000</td>\n",
       "      <td>0.568541</td>\n",
       "      <td>0.013376</td>\n",
       "      <td>-0.012043</td>\n",
       "      <td>0.013191</td>\n",
       "      <td>0.007961</td>\n",
       "      <td>0.108834</td>\n",
       "      <td>...</td>\n",
       "      <td>-0.071477</td>\n",
       "      <td>0.021273</td>\n",
       "      <td>0.031606</td>\n",
       "      <td>-0.078364</td>\n",
       "      <td>0.028509</td>\n",
       "      <td>0.052443</td>\n",
       "      <td>0.060573</td>\n",
       "      <td>-0.032484</td>\n",
       "      <td>-0.012477</td>\n",
       "      <td>-0.023799</td>\n",
       "    </tr>\n",
       "    <tr>\n",
       "      <th>N_ROOM</th>\n",
       "      <td>0.951279</td>\n",
       "      <td>0.002301</td>\n",
       "      <td>0.840209</td>\n",
       "      <td>0.568541</td>\n",
       "      <td>1.000000</td>\n",
       "      <td>0.016524</td>\n",
       "      <td>-0.007545</td>\n",
       "      <td>0.015072</td>\n",
       "      <td>0.015418</td>\n",
       "      <td>0.602760</td>\n",
       "      <td>...</td>\n",
       "      <td>-0.083528</td>\n",
       "      <td>0.021138</td>\n",
       "      <td>0.033587</td>\n",
       "      <td>-0.105984</td>\n",
       "      <td>0.049886</td>\n",
       "      <td>-0.091341</td>\n",
       "      <td>-0.087920</td>\n",
       "      <td>0.026932</td>\n",
       "      <td>0.084320</td>\n",
       "      <td>0.060642</td>\n",
       "    </tr>\n",
       "    <tr>\n",
       "      <th>QS_ROOMS</th>\n",
       "      <td>0.019850</td>\n",
       "      <td>0.002237</td>\n",
       "      <td>0.014948</td>\n",
       "      <td>0.013376</td>\n",
       "      <td>0.016524</td>\n",
       "      <td>1.000000</td>\n",
       "      <td>0.008828</td>\n",
       "      <td>0.007789</td>\n",
       "      <td>0.516147</td>\n",
       "      <td>0.021967</td>\n",
       "      <td>...</td>\n",
       "      <td>-0.018183</td>\n",
       "      <td>0.005090</td>\n",
       "      <td>0.010696</td>\n",
       "      <td>-0.011349</td>\n",
       "      <td>0.017089</td>\n",
       "      <td>-0.008152</td>\n",
       "      <td>0.007917</td>\n",
       "      <td>0.012162</td>\n",
       "      <td>-0.012083</td>\n",
       "      <td>0.003202</td>\n",
       "    </tr>\n",
       "    <tr>\n",
       "      <th>QS_BATHROOM</th>\n",
       "      <td>-0.008337</td>\n",
       "      <td>-0.029468</td>\n",
       "      <td>-0.007534</td>\n",
       "      <td>-0.012043</td>\n",
       "      <td>-0.007545</td>\n",
       "      <td>0.008828</td>\n",
       "      <td>1.000000</td>\n",
       "      <td>-0.011745</td>\n",
       "      <td>0.549056</td>\n",
       "      <td>-0.011377</td>\n",
       "      <td>...</td>\n",
       "      <td>0.015155</td>\n",
       "      <td>0.002258</td>\n",
       "      <td>-0.004176</td>\n",
       "      <td>-0.011821</td>\n",
       "      <td>0.016293</td>\n",
       "      <td>0.008982</td>\n",
       "      <td>0.010363</td>\n",
       "      <td>0.003302</td>\n",
       "      <td>-0.025412</td>\n",
       "      <td>0.003103</td>\n",
       "    </tr>\n",
       "    <tr>\n",
       "      <th>QS_BEDROOM</th>\n",
       "      <td>0.008865</td>\n",
       "      <td>0.001554</td>\n",
       "      <td>0.015752</td>\n",
       "      <td>0.013191</td>\n",
       "      <td>0.015072</td>\n",
       "      <td>0.007789</td>\n",
       "      <td>-0.011745</td>\n",
       "      <td>1.000000</td>\n",
       "      <td>0.628168</td>\n",
       "      <td>0.018804</td>\n",
       "      <td>...</td>\n",
       "      <td>-0.021965</td>\n",
       "      <td>0.003134</td>\n",
       "      <td>0.015301</td>\n",
       "      <td>-0.016548</td>\n",
       "      <td>-0.008378</td>\n",
       "      <td>-0.012115</td>\n",
       "      <td>-0.018541</td>\n",
       "      <td>-0.003892</td>\n",
       "      <td>0.011552</td>\n",
       "      <td>0.001457</td>\n",
       "    </tr>\n",
       "    <tr>\n",
       "      <th>QS_OVERALL</th>\n",
       "      <td>0.013989</td>\n",
       "      <td>-0.017255</td>\n",
       "      <td>0.014245</td>\n",
       "      <td>0.007961</td>\n",
       "      <td>0.015418</td>\n",
       "      <td>0.516147</td>\n",
       "      <td>0.549056</td>\n",
       "      <td>0.628168</td>\n",
       "      <td>1.000000</td>\n",
       "      <td>0.020485</td>\n",
       "      <td>...</td>\n",
       "      <td>-0.014539</td>\n",
       "      <td>0.009898</td>\n",
       "      <td>0.007248</td>\n",
       "      <td>-0.021478</td>\n",
       "      <td>0.015434</td>\n",
       "      <td>-0.006012</td>\n",
       "      <td>-0.011881</td>\n",
       "      <td>0.008581</td>\n",
       "      <td>-0.012439</td>\n",
       "      <td>0.004641</td>\n",
       "    </tr>\n",
       "    <tr>\n",
       "      <th>SALES_PRICE</th>\n",
       "      <td>0.612125</td>\n",
       "      <td>0.018783</td>\n",
       "      <td>0.330987</td>\n",
       "      <td>0.108834</td>\n",
       "      <td>0.602760</td>\n",
       "      <td>0.021967</td>\n",
       "      <td>-0.011377</td>\n",
       "      <td>0.018804</td>\n",
       "      <td>0.020485</td>\n",
       "      <td>1.000000</td>\n",
       "      <td>...</td>\n",
       "      <td>-0.058934</td>\n",
       "      <td>-0.000290</td>\n",
       "      <td>0.004818</td>\n",
       "      <td>-0.149341</td>\n",
       "      <td>0.032493</td>\n",
       "      <td>-0.218441</td>\n",
       "      <td>-0.161581</td>\n",
       "      <td>0.022598</td>\n",
       "      <td>0.137466</td>\n",
       "      <td>0.235134</td>\n",
       "    </tr>\n",
       "    <tr>\n",
       "      <th>BUILDING_AGE</th>\n",
       "      <td>-0.012922</td>\n",
       "      <td>-0.003176</td>\n",
       "      <td>-0.045635</td>\n",
       "      <td>-0.019844</td>\n",
       "      <td>-0.033607</td>\n",
       "      <td>0.020012</td>\n",
       "      <td>0.021485</td>\n",
       "      <td>-0.018402</td>\n",
       "      <td>0.012100</td>\n",
       "      <td>-0.119192</td>\n",
       "      <td>...</td>\n",
       "      <td>0.047071</td>\n",
       "      <td>-0.011030</td>\n",
       "      <td>-0.011315</td>\n",
       "      <td>0.043845</td>\n",
       "      <td>-0.016607</td>\n",
       "      <td>0.061865</td>\n",
       "      <td>0.075173</td>\n",
       "      <td>-0.028461</td>\n",
       "      <td>-0.052889</td>\n",
       "      <td>-0.042005</td>\n",
       "    </tr>\n",
       "    <tr>\n",
       "      <th>AREA_Anna Nagar</th>\n",
       "      <td>0.286339</td>\n",
       "      <td>0.006508</td>\n",
       "      <td>-0.104874</td>\n",
       "      <td>-0.183745</td>\n",
       "      <td>0.245926</td>\n",
       "      <td>0.009160</td>\n",
       "      <td>-0.011833</td>\n",
       "      <td>-0.007735</td>\n",
       "      <td>-0.004105</td>\n",
       "      <td>0.400390</td>\n",
       "      <td>...</td>\n",
       "      <td>0.038552</td>\n",
       "      <td>-0.020749</td>\n",
       "      <td>-0.018180</td>\n",
       "      <td>0.047137</td>\n",
       "      <td>-0.036454</td>\n",
       "      <td>-0.102243</td>\n",
       "      <td>-0.099702</td>\n",
       "      <td>0.058540</td>\n",
       "      <td>0.061237</td>\n",
       "      <td>0.063271</td>\n",
       "    </tr>\n",
       "    <tr>\n",
       "      <th>AREA_Chrompet</th>\n",
       "      <td>-0.464682</td>\n",
       "      <td>-0.014367</td>\n",
       "      <td>-0.329743</td>\n",
       "      <td>-0.291976</td>\n",
       "      <td>-0.377565</td>\n",
       "      <td>-0.011027</td>\n",
       "      <td>0.009389</td>\n",
       "      <td>-0.013034</td>\n",
       "      <td>-0.008068</td>\n",
       "      <td>-0.131183</td>\n",
       "      <td>...</td>\n",
       "      <td>0.031832</td>\n",
       "      <td>-0.016427</td>\n",
       "      <td>0.003100</td>\n",
       "      <td>0.051259</td>\n",
       "      <td>-0.034832</td>\n",
       "      <td>-0.162467</td>\n",
       "      <td>-0.158430</td>\n",
       "      <td>0.092709</td>\n",
       "      <td>0.100659</td>\n",
       "      <td>0.097476</td>\n",
       "    </tr>\n",
       "    <tr>\n",
       "      <th>AREA_KK Nagar</th>\n",
       "      <td>0.460293</td>\n",
       "      <td>0.007718</td>\n",
       "      <td>0.590863</td>\n",
       "      <td>0.377424</td>\n",
       "      <td>0.444985</td>\n",
       "      <td>0.013845</td>\n",
       "      <td>0.010052</td>\n",
       "      <td>0.012491</td>\n",
       "      <td>0.019730</td>\n",
       "      <td>0.193062</td>\n",
       "      <td>...</td>\n",
       "      <td>-0.210802</td>\n",
       "      <td>0.075067</td>\n",
       "      <td>0.062546</td>\n",
       "      <td>-0.254194</td>\n",
       "      <td>0.132603</td>\n",
       "      <td>-0.116955</td>\n",
       "      <td>-0.114049</td>\n",
       "      <td>0.065391</td>\n",
       "      <td>0.069541</td>\n",
       "      <td>0.074460</td>\n",
       "    </tr>\n",
       "    <tr>\n",
       "      <th>AREA_Karapakkam</th>\n",
       "      <td>-0.297143</td>\n",
       "      <td>0.012111</td>\n",
       "      <td>-0.199260</td>\n",
       "      <td>0.114119</td>\n",
       "      <td>-0.333116</td>\n",
       "      <td>-0.011715</td>\n",
       "      <td>-0.010457</td>\n",
       "      <td>0.004660</td>\n",
       "      <td>-0.010847</td>\n",
       "      <td>-0.460068</td>\n",
       "      <td>...</td>\n",
       "      <td>0.024847</td>\n",
       "      <td>-0.011768</td>\n",
       "      <td>-0.000362</td>\n",
       "      <td>0.062909</td>\n",
       "      <td>-0.029135</td>\n",
       "      <td>0.176819</td>\n",
       "      <td>0.188559</td>\n",
       "      <td>-0.096578</td>\n",
       "      <td>-0.117026</td>\n",
       "      <td>-0.114705</td>\n",
       "    </tr>\n",
       "    <tr>\n",
       "      <th>AREA_T Nagar</th>\n",
       "      <td>0.226146</td>\n",
       "      <td>0.018237</td>\n",
       "      <td>-0.063908</td>\n",
       "      <td>-0.142524</td>\n",
       "      <td>0.204493</td>\n",
       "      <td>0.010422</td>\n",
       "      <td>-0.000426</td>\n",
       "      <td>0.014060</td>\n",
       "      <td>0.012622</td>\n",
       "      <td>0.343654</td>\n",
       "      <td>...</td>\n",
       "      <td>0.013204</td>\n",
       "      <td>0.000576</td>\n",
       "      <td>-0.004561</td>\n",
       "      <td>0.022380</td>\n",
       "      <td>-0.002816</td>\n",
       "      <td>-0.079306</td>\n",
       "      <td>-0.077335</td>\n",
       "      <td>0.026404</td>\n",
       "      <td>0.054497</td>\n",
       "      <td>0.061047</td>\n",
       "    </tr>\n",
       "    <tr>\n",
       "      <th>AREA_Velachery</th>\n",
       "      <td>0.314239</td>\n",
       "      <td>-0.033195</td>\n",
       "      <td>0.367385</td>\n",
       "      <td>0.157303</td>\n",
       "      <td>0.269114</td>\n",
       "      <td>0.002817</td>\n",
       "      <td>-0.000912</td>\n",
       "      <td>-0.009001</td>\n",
       "      <td>-0.000996</td>\n",
       "      <td>0.016186</td>\n",
       "      <td>...</td>\n",
       "      <td>0.046705</td>\n",
       "      <td>-0.017771</td>\n",
       "      <td>-0.019025</td>\n",
       "      <td>0.028649</td>\n",
       "      <td>-0.007572</td>\n",
       "      <td>0.137548</td>\n",
       "      <td>0.128743</td>\n",
       "      <td>-0.075133</td>\n",
       "      <td>-0.084837</td>\n",
       "      <td>-0.086711</td>\n",
       "    </tr>\n",
       "    <tr>\n",
       "      <th>SALE_COND_AdjLand</th>\n",
       "      <td>-0.004330</td>\n",
       "      <td>-0.008807</td>\n",
       "      <td>-0.004603</td>\n",
       "      <td>-0.002279</td>\n",
       "      <td>-0.006887</td>\n",
       "      <td>-0.000212</td>\n",
       "      <td>0.013288</td>\n",
       "      <td>0.004598</td>\n",
       "      <td>0.009949</td>\n",
       "      <td>0.042032</td>\n",
       "      <td>...</td>\n",
       "      <td>-0.003484</td>\n",
       "      <td>0.012937</td>\n",
       "      <td>-0.004185</td>\n",
       "      <td>-0.001771</td>\n",
       "      <td>-0.009197</td>\n",
       "      <td>0.000877</td>\n",
       "      <td>-0.003039</td>\n",
       "      <td>0.012182</td>\n",
       "      <td>-0.008044</td>\n",
       "      <td>-0.003047</td>\n",
       "    </tr>\n",
       "    <tr>\n",
       "      <th>SALE_COND_Family</th>\n",
       "      <td>-0.009551</td>\n",
       "      <td>0.012948</td>\n",
       "      <td>-0.009080</td>\n",
       "      <td>-0.009488</td>\n",
       "      <td>-0.012573</td>\n",
       "      <td>0.026149</td>\n",
       "      <td>-0.016166</td>\n",
       "      <td>-0.002102</td>\n",
       "      <td>-0.000889</td>\n",
       "      <td>-0.020856</td>\n",
       "      <td>...</td>\n",
       "      <td>0.005708</td>\n",
       "      <td>-0.012241</td>\n",
       "      <td>0.005689</td>\n",
       "      <td>0.014060</td>\n",
       "      <td>0.001767</td>\n",
       "      <td>0.000601</td>\n",
       "      <td>0.019445</td>\n",
       "      <td>-0.003709</td>\n",
       "      <td>-0.013423</td>\n",
       "      <td>0.004380</td>\n",
       "    </tr>\n",
       "    <tr>\n",
       "      <th>SALE_COND_Normal Sale</th>\n",
       "      <td>0.014994</td>\n",
       "      <td>-0.001319</td>\n",
       "      <td>0.021297</td>\n",
       "      <td>0.018667</td>\n",
       "      <td>0.015171</td>\n",
       "      <td>-0.007907</td>\n",
       "      <td>-0.017429</td>\n",
       "      <td>-0.003757</td>\n",
       "      <td>-0.013518</td>\n",
       "      <td>0.013178</td>\n",
       "      <td>...</td>\n",
       "      <td>0.006293</td>\n",
       "      <td>-0.004403</td>\n",
       "      <td>0.004738</td>\n",
       "      <td>0.009560</td>\n",
       "      <td>0.021338</td>\n",
       "      <td>-0.019860</td>\n",
       "      <td>-0.008185</td>\n",
       "      <td>-0.011038</td>\n",
       "      <td>0.023273</td>\n",
       "      <td>0.006684</td>\n",
       "    </tr>\n",
       "    <tr>\n",
       "      <th>SALE_COND_Partial</th>\n",
       "      <td>0.000752</td>\n",
       "      <td>0.000621</td>\n",
       "      <td>-0.001631</td>\n",
       "      <td>-0.007181</td>\n",
       "      <td>0.005191</td>\n",
       "      <td>-0.003474</td>\n",
       "      <td>0.005475</td>\n",
       "      <td>-0.003018</td>\n",
       "      <td>0.000937</td>\n",
       "      <td>-0.037140</td>\n",
       "      <td>...</td>\n",
       "      <td>-0.008375</td>\n",
       "      <td>-0.008080</td>\n",
       "      <td>0.013089</td>\n",
       "      <td>-0.002005</td>\n",
       "      <td>-0.010546</td>\n",
       "      <td>0.005425</td>\n",
       "      <td>-0.017198</td>\n",
       "      <td>0.003798</td>\n",
       "      <td>0.008358</td>\n",
       "      <td>0.000593</td>\n",
       "    </tr>\n",
       "    <tr>\n",
       "      <th>PARK_FACIL_Yes</th>\n",
       "      <td>0.004618</td>\n",
       "      <td>-0.009448</td>\n",
       "      <td>-0.009357</td>\n",
       "      <td>-0.014033</td>\n",
       "      <td>-0.000934</td>\n",
       "      <td>-0.008128</td>\n",
       "      <td>-0.011935</td>\n",
       "      <td>-0.001165</td>\n",
       "      <td>-0.009601</td>\n",
       "      <td>0.146428</td>\n",
       "      <td>...</td>\n",
       "      <td>0.026092</td>\n",
       "      <td>0.011466</td>\n",
       "      <td>-0.019863</td>\n",
       "      <td>-0.003570</td>\n",
       "      <td>0.008339</td>\n",
       "      <td>-0.002648</td>\n",
       "      <td>-0.009575</td>\n",
       "      <td>0.000432</td>\n",
       "      <td>0.008648</td>\n",
       "      <td>-0.009550</td>\n",
       "    </tr>\n",
       "    <tr>\n",
       "      <th>BUILDTYPE_House</th>\n",
       "      <td>-0.006848</td>\n",
       "      <td>-0.019417</td>\n",
       "      <td>0.004914</td>\n",
       "      <td>0.018195</td>\n",
       "      <td>-0.005288</td>\n",
       "      <td>-0.017000</td>\n",
       "      <td>0.002439</td>\n",
       "      <td>-0.003363</td>\n",
       "      <td>-0.010053</td>\n",
       "      <td>-0.344982</td>\n",
       "      <td>...</td>\n",
       "      <td>0.006319</td>\n",
       "      <td>-0.019658</td>\n",
       "      <td>0.023176</td>\n",
       "      <td>0.001693</td>\n",
       "      <td>-0.026642</td>\n",
       "      <td>-0.012287</td>\n",
       "      <td>-0.010746</td>\n",
       "      <td>-0.003653</td>\n",
       "      <td>0.014990</td>\n",
       "      <td>-0.003168</td>\n",
       "    </tr>\n",
       "    <tr>\n",
       "      <th>BUILDTYPE_Other</th>\n",
       "      <td>-0.001995</td>\n",
       "      <td>-0.002458</td>\n",
       "      <td>-0.004435</td>\n",
       "      <td>-0.012305</td>\n",
       "      <td>-0.003472</td>\n",
       "      <td>0.007182</td>\n",
       "      <td>0.007098</td>\n",
       "      <td>0.001363</td>\n",
       "      <td>0.007293</td>\n",
       "      <td>-0.201783</td>\n",
       "      <td>...</td>\n",
       "      <td>0.015240</td>\n",
       "      <td>0.016454</td>\n",
       "      <td>-0.014390</td>\n",
       "      <td>-0.002512</td>\n",
       "      <td>0.006137</td>\n",
       "      <td>0.014876</td>\n",
       "      <td>-0.004024</td>\n",
       "      <td>-0.005285</td>\n",
       "      <td>-0.005817</td>\n",
       "      <td>-0.004162</td>\n",
       "    </tr>\n",
       "    <tr>\n",
       "      <th>UTILITY_AVAIL_ELO</th>\n",
       "      <td>-0.089793</td>\n",
       "      <td>0.012707</td>\n",
       "      <td>-0.111240</td>\n",
       "      <td>-0.071477</td>\n",
       "      <td>-0.083528</td>\n",
       "      <td>-0.018183</td>\n",
       "      <td>0.015155</td>\n",
       "      <td>-0.021965</td>\n",
       "      <td>-0.014539</td>\n",
       "      <td>-0.058934</td>\n",
       "      <td>...</td>\n",
       "      <td>1.000000</td>\n",
       "      <td>-0.311941</td>\n",
       "      <td>-0.307191</td>\n",
       "      <td>0.060225</td>\n",
       "      <td>-0.021161</td>\n",
       "      <td>0.024706</td>\n",
       "      <td>0.054549</td>\n",
       "      <td>-0.007918</td>\n",
       "      <td>-0.033396</td>\n",
       "      <td>-0.011801</td>\n",
       "    </tr>\n",
       "    <tr>\n",
       "      <th>UTILITY_AVAIL_NoSeWa</th>\n",
       "      <td>0.025290</td>\n",
       "      <td>-0.014840</td>\n",
       "      <td>0.031149</td>\n",
       "      <td>0.021273</td>\n",
       "      <td>0.021138</td>\n",
       "      <td>0.005090</td>\n",
       "      <td>0.002258</td>\n",
       "      <td>0.003134</td>\n",
       "      <td>0.009898</td>\n",
       "      <td>-0.000290</td>\n",
       "      <td>...</td>\n",
       "      <td>-0.311941</td>\n",
       "      <td>1.000000</td>\n",
       "      <td>-0.351758</td>\n",
       "      <td>-0.014065</td>\n",
       "      <td>-0.000610</td>\n",
       "      <td>-0.009270</td>\n",
       "      <td>-0.019755</td>\n",
       "      <td>-0.002581</td>\n",
       "      <td>0.013812</td>\n",
       "      <td>0.005704</td>\n",
       "    </tr>\n",
       "    <tr>\n",
       "      <th>UTILITY_AVAIL_NoSewr</th>\n",
       "      <td>0.030922</td>\n",
       "      <td>0.011974</td>\n",
       "      <td>0.038896</td>\n",
       "      <td>0.031606</td>\n",
       "      <td>0.033587</td>\n",
       "      <td>0.010696</td>\n",
       "      <td>-0.004176</td>\n",
       "      <td>0.015301</td>\n",
       "      <td>0.007248</td>\n",
       "      <td>0.004818</td>\n",
       "      <td>...</td>\n",
       "      <td>-0.307191</td>\n",
       "      <td>-0.351758</td>\n",
       "      <td>1.000000</td>\n",
       "      <td>-0.039926</td>\n",
       "      <td>0.030991</td>\n",
       "      <td>0.004211</td>\n",
       "      <td>-0.013623</td>\n",
       "      <td>0.000912</td>\n",
       "      <td>0.006573</td>\n",
       "      <td>0.008501</td>\n",
       "    </tr>\n",
       "    <tr>\n",
       "      <th>STREET_No Access</th>\n",
       "      <td>-0.113160</td>\n",
       "      <td>-0.009223</td>\n",
       "      <td>-0.140196</td>\n",
       "      <td>-0.078364</td>\n",
       "      <td>-0.105984</td>\n",
       "      <td>-0.011349</td>\n",
       "      <td>-0.011821</td>\n",
       "      <td>-0.016548</td>\n",
       "      <td>-0.021478</td>\n",
       "      <td>-0.149341</td>\n",
       "      <td>...</td>\n",
       "      <td>0.060225</td>\n",
       "      <td>-0.014065</td>\n",
       "      <td>-0.039926</td>\n",
       "      <td>1.000000</td>\n",
       "      <td>-0.473871</td>\n",
       "      <td>0.040820</td>\n",
       "      <td>0.015564</td>\n",
       "      <td>-0.022833</td>\n",
       "      <td>-0.012187</td>\n",
       "      <td>-0.017546</td>\n",
       "    </tr>\n",
       "    <tr>\n",
       "      <th>STREET_Paved</th>\n",
       "      <td>0.060426</td>\n",
       "      <td>0.014090</td>\n",
       "      <td>0.069205</td>\n",
       "      <td>0.028509</td>\n",
       "      <td>0.049886</td>\n",
       "      <td>0.017089</td>\n",
       "      <td>0.016293</td>\n",
       "      <td>-0.008378</td>\n",
       "      <td>0.015434</td>\n",
       "      <td>0.032493</td>\n",
       "      <td>...</td>\n",
       "      <td>-0.021161</td>\n",
       "      <td>-0.000610</td>\n",
       "      <td>0.030991</td>\n",
       "      <td>-0.473871</td>\n",
       "      <td>1.000000</td>\n",
       "      <td>-0.026283</td>\n",
       "      <td>-0.014487</td>\n",
       "      <td>0.022670</td>\n",
       "      <td>0.019845</td>\n",
       "      <td>-0.008981</td>\n",
       "    </tr>\n",
       "    <tr>\n",
       "      <th>MZZONE_C</th>\n",
       "      <td>-0.084035</td>\n",
       "      <td>-0.008996</td>\n",
       "      <td>-0.017259</td>\n",
       "      <td>0.052443</td>\n",
       "      <td>-0.091341</td>\n",
       "      <td>-0.008152</td>\n",
       "      <td>0.008982</td>\n",
       "      <td>-0.012115</td>\n",
       "      <td>-0.006012</td>\n",
       "      <td>-0.218441</td>\n",
       "      <td>...</td>\n",
       "      <td>0.024706</td>\n",
       "      <td>-0.009270</td>\n",
       "      <td>0.004211</td>\n",
       "      <td>0.040820</td>\n",
       "      <td>-0.026283</td>\n",
       "      <td>1.000000</td>\n",
       "      <td>-0.081771</td>\n",
       "      <td>-0.169993</td>\n",
       "      <td>-0.172252</td>\n",
       "      <td>-0.169680</td>\n",
       "    </tr>\n",
       "    <tr>\n",
       "      <th>MZZONE_I</th>\n",
       "      <td>-0.078290</td>\n",
       "      <td>0.009730</td>\n",
       "      <td>-0.014333</td>\n",
       "      <td>0.060573</td>\n",
       "      <td>-0.087920</td>\n",
       "      <td>0.007917</td>\n",
       "      <td>0.010363</td>\n",
       "      <td>-0.018541</td>\n",
       "      <td>-0.011881</td>\n",
       "      <td>-0.161581</td>\n",
       "      <td>...</td>\n",
       "      <td>0.054549</td>\n",
       "      <td>-0.019755</td>\n",
       "      <td>-0.013623</td>\n",
       "      <td>0.015564</td>\n",
       "      <td>-0.014487</td>\n",
       "      <td>-0.081771</td>\n",
       "      <td>1.000000</td>\n",
       "      <td>-0.165769</td>\n",
       "      <td>-0.167972</td>\n",
       "      <td>-0.165464</td>\n",
       "    </tr>\n",
       "    <tr>\n",
       "      <th>MZZONE_RH</th>\n",
       "      <td>0.033044</td>\n",
       "      <td>0.007454</td>\n",
       "      <td>-0.010636</td>\n",
       "      <td>-0.032484</td>\n",
       "      <td>0.026932</td>\n",
       "      <td>0.012162</td>\n",
       "      <td>0.003302</td>\n",
       "      <td>-0.003892</td>\n",
       "      <td>0.008581</td>\n",
       "      <td>0.022598</td>\n",
       "      <td>...</td>\n",
       "      <td>-0.007918</td>\n",
       "      <td>-0.002581</td>\n",
       "      <td>0.000912</td>\n",
       "      <td>-0.022833</td>\n",
       "      <td>0.022670</td>\n",
       "      <td>-0.169993</td>\n",
       "      <td>-0.165769</td>\n",
       "      <td>1.000000</td>\n",
       "      <td>-0.349198</td>\n",
       "      <td>-0.343983</td>\n",
       "    </tr>\n",
       "    <tr>\n",
       "      <th>MZZONE_RL</th>\n",
       "      <td>0.067795</td>\n",
       "      <td>0.008959</td>\n",
       "      <td>0.040104</td>\n",
       "      <td>-0.012477</td>\n",
       "      <td>0.084320</td>\n",
       "      <td>-0.012083</td>\n",
       "      <td>-0.025412</td>\n",
       "      <td>0.011552</td>\n",
       "      <td>-0.012439</td>\n",
       "      <td>0.137466</td>\n",
       "      <td>...</td>\n",
       "      <td>-0.033396</td>\n",
       "      <td>0.013812</td>\n",
       "      <td>0.006573</td>\n",
       "      <td>-0.012187</td>\n",
       "      <td>0.019845</td>\n",
       "      <td>-0.172252</td>\n",
       "      <td>-0.167972</td>\n",
       "      <td>-0.349198</td>\n",
       "      <td>1.000000</td>\n",
       "      <td>-0.348553</td>\n",
       "    </tr>\n",
       "    <tr>\n",
       "      <th>MZZONE_RM</th>\n",
       "      <td>0.053017</td>\n",
       "      <td>-0.007888</td>\n",
       "      <td>0.013931</td>\n",
       "      <td>-0.023799</td>\n",
       "      <td>0.060642</td>\n",
       "      <td>0.003202</td>\n",
       "      <td>0.003103</td>\n",
       "      <td>0.001457</td>\n",
       "      <td>0.004641</td>\n",
       "      <td>0.235134</td>\n",
       "      <td>...</td>\n",
       "      <td>-0.011801</td>\n",
       "      <td>0.005704</td>\n",
       "      <td>0.008501</td>\n",
       "      <td>-0.017546</td>\n",
       "      <td>-0.008981</td>\n",
       "      <td>-0.169680</td>\n",
       "      <td>-0.165464</td>\n",
       "      <td>-0.343983</td>\n",
       "      <td>-0.348553</td>\n",
       "      <td>1.000000</td>\n",
       "    </tr>\n",
       "  </tbody>\n",
       "</table>\n",
       "<p>34 rows × 34 columns</p>\n",
       "</div>"
      ],
      "text/plain": [
       "                       INT_SQFT  DIST_MAINROAD  N_BEDROOM  N_BATHROOM  \\\n",
       "INT_SQFT               1.000000       0.002022   0.786263    0.515290   \n",
       "DIST_MAINROAD          0.002022       1.000000  -0.002723    0.001850   \n",
       "N_BEDROOM              0.786263      -0.002723   1.000000    0.755207   \n",
       "N_BATHROOM             0.515290       0.001850   0.755207    1.000000   \n",
       "N_ROOM                 0.951279       0.002301   0.840209    0.568541   \n",
       "QS_ROOMS               0.019850       0.002237   0.014948    0.013376   \n",
       "QS_BATHROOM           -0.008337      -0.029468  -0.007534   -0.012043   \n",
       "QS_BEDROOM             0.008865       0.001554   0.015752    0.013191   \n",
       "QS_OVERALL             0.013989      -0.017255   0.014245    0.007961   \n",
       "SALES_PRICE            0.612125       0.018783   0.330987    0.108834   \n",
       "BUILDING_AGE          -0.012922      -0.003176  -0.045635   -0.019844   \n",
       "AREA_Anna Nagar        0.286339       0.006508  -0.104874   -0.183745   \n",
       "AREA_Chrompet         -0.464682      -0.014367  -0.329743   -0.291976   \n",
       "AREA_KK Nagar          0.460293       0.007718   0.590863    0.377424   \n",
       "AREA_Karapakkam       -0.297143       0.012111  -0.199260    0.114119   \n",
       "AREA_T Nagar           0.226146       0.018237  -0.063908   -0.142524   \n",
       "AREA_Velachery         0.314239      -0.033195   0.367385    0.157303   \n",
       "SALE_COND_AdjLand     -0.004330      -0.008807  -0.004603   -0.002279   \n",
       "SALE_COND_Family      -0.009551       0.012948  -0.009080   -0.009488   \n",
       "SALE_COND_Normal Sale  0.014994      -0.001319   0.021297    0.018667   \n",
       "SALE_COND_Partial      0.000752       0.000621  -0.001631   -0.007181   \n",
       "PARK_FACIL_Yes         0.004618      -0.009448  -0.009357   -0.014033   \n",
       "BUILDTYPE_House       -0.006848      -0.019417   0.004914    0.018195   \n",
       "BUILDTYPE_Other       -0.001995      -0.002458  -0.004435   -0.012305   \n",
       "UTILITY_AVAIL_ELO     -0.089793       0.012707  -0.111240   -0.071477   \n",
       "UTILITY_AVAIL_NoSeWa   0.025290      -0.014840   0.031149    0.021273   \n",
       "UTILITY_AVAIL_NoSewr   0.030922       0.011974   0.038896    0.031606   \n",
       "STREET_No Access      -0.113160      -0.009223  -0.140196   -0.078364   \n",
       "STREET_Paved           0.060426       0.014090   0.069205    0.028509   \n",
       "MZZONE_C              -0.084035      -0.008996  -0.017259    0.052443   \n",
       "MZZONE_I              -0.078290       0.009730  -0.014333    0.060573   \n",
       "MZZONE_RH              0.033044       0.007454  -0.010636   -0.032484   \n",
       "MZZONE_RL              0.067795       0.008959   0.040104   -0.012477   \n",
       "MZZONE_RM              0.053017      -0.007888   0.013931   -0.023799   \n",
       "\n",
       "                         N_ROOM  QS_ROOMS  QS_BATHROOM  QS_BEDROOM  \\\n",
       "INT_SQFT               0.951279  0.019850    -0.008337    0.008865   \n",
       "DIST_MAINROAD          0.002301  0.002237    -0.029468    0.001554   \n",
       "N_BEDROOM              0.840209  0.014948    -0.007534    0.015752   \n",
       "N_BATHROOM             0.568541  0.013376    -0.012043    0.013191   \n",
       "N_ROOM                 1.000000  0.016524    -0.007545    0.015072   \n",
       "QS_ROOMS               0.016524  1.000000     0.008828    0.007789   \n",
       "QS_BATHROOM           -0.007545  0.008828     1.000000   -0.011745   \n",
       "QS_BEDROOM             0.015072  0.007789    -0.011745    1.000000   \n",
       "QS_OVERALL             0.015418  0.516147     0.549056    0.628168   \n",
       "SALES_PRICE            0.602760  0.021967    -0.011377    0.018804   \n",
       "BUILDING_AGE          -0.033607  0.020012     0.021485   -0.018402   \n",
       "AREA_Anna Nagar        0.245926  0.009160    -0.011833   -0.007735   \n",
       "AREA_Chrompet         -0.377565 -0.011027     0.009389   -0.013034   \n",
       "AREA_KK Nagar          0.444985  0.013845     0.010052    0.012491   \n",
       "AREA_Karapakkam       -0.333116 -0.011715    -0.010457    0.004660   \n",
       "AREA_T Nagar           0.204493  0.010422    -0.000426    0.014060   \n",
       "AREA_Velachery         0.269114  0.002817    -0.000912   -0.009001   \n",
       "SALE_COND_AdjLand     -0.006887 -0.000212     0.013288    0.004598   \n",
       "SALE_COND_Family      -0.012573  0.026149    -0.016166   -0.002102   \n",
       "SALE_COND_Normal Sale  0.015171 -0.007907    -0.017429   -0.003757   \n",
       "SALE_COND_Partial      0.005191 -0.003474     0.005475   -0.003018   \n",
       "PARK_FACIL_Yes        -0.000934 -0.008128    -0.011935   -0.001165   \n",
       "BUILDTYPE_House       -0.005288 -0.017000     0.002439   -0.003363   \n",
       "BUILDTYPE_Other       -0.003472  0.007182     0.007098    0.001363   \n",
       "UTILITY_AVAIL_ELO     -0.083528 -0.018183     0.015155   -0.021965   \n",
       "UTILITY_AVAIL_NoSeWa   0.021138  0.005090     0.002258    0.003134   \n",
       "UTILITY_AVAIL_NoSewr   0.033587  0.010696    -0.004176    0.015301   \n",
       "STREET_No Access      -0.105984 -0.011349    -0.011821   -0.016548   \n",
       "STREET_Paved           0.049886  0.017089     0.016293   -0.008378   \n",
       "MZZONE_C              -0.091341 -0.008152     0.008982   -0.012115   \n",
       "MZZONE_I              -0.087920  0.007917     0.010363   -0.018541   \n",
       "MZZONE_RH              0.026932  0.012162     0.003302   -0.003892   \n",
       "MZZONE_RL              0.084320 -0.012083    -0.025412    0.011552   \n",
       "MZZONE_RM              0.060642  0.003202     0.003103    0.001457   \n",
       "\n",
       "                       QS_OVERALL  SALES_PRICE  ...  UTILITY_AVAIL_ELO  \\\n",
       "INT_SQFT                 0.013989     0.612125  ...          -0.089793   \n",
       "DIST_MAINROAD           -0.017255     0.018783  ...           0.012707   \n",
       "N_BEDROOM                0.014245     0.330987  ...          -0.111240   \n",
       "N_BATHROOM               0.007961     0.108834  ...          -0.071477   \n",
       "N_ROOM                   0.015418     0.602760  ...          -0.083528   \n",
       "QS_ROOMS                 0.516147     0.021967  ...          -0.018183   \n",
       "QS_BATHROOM              0.549056    -0.011377  ...           0.015155   \n",
       "QS_BEDROOM               0.628168     0.018804  ...          -0.021965   \n",
       "QS_OVERALL               1.000000     0.020485  ...          -0.014539   \n",
       "SALES_PRICE              0.020485     1.000000  ...          -0.058934   \n",
       "BUILDING_AGE             0.012100    -0.119192  ...           0.047071   \n",
       "AREA_Anna Nagar         -0.004105     0.400390  ...           0.038552   \n",
       "AREA_Chrompet           -0.008068    -0.131183  ...           0.031832   \n",
       "AREA_KK Nagar            0.019730     0.193062  ...          -0.210802   \n",
       "AREA_Karapakkam         -0.010847    -0.460068  ...           0.024847   \n",
       "AREA_T Nagar             0.012622     0.343654  ...           0.013204   \n",
       "AREA_Velachery          -0.000996     0.016186  ...           0.046705   \n",
       "SALE_COND_AdjLand        0.009949     0.042032  ...          -0.003484   \n",
       "SALE_COND_Family        -0.000889    -0.020856  ...           0.005708   \n",
       "SALE_COND_Normal Sale   -0.013518     0.013178  ...           0.006293   \n",
       "SALE_COND_Partial        0.000937    -0.037140  ...          -0.008375   \n",
       "PARK_FACIL_Yes          -0.009601     0.146428  ...           0.026092   \n",
       "BUILDTYPE_House         -0.010053    -0.344982  ...           0.006319   \n",
       "BUILDTYPE_Other          0.007293    -0.201783  ...           0.015240   \n",
       "UTILITY_AVAIL_ELO       -0.014539    -0.058934  ...           1.000000   \n",
       "UTILITY_AVAIL_NoSeWa     0.009898    -0.000290  ...          -0.311941   \n",
       "UTILITY_AVAIL_NoSewr     0.007248     0.004818  ...          -0.307191   \n",
       "STREET_No Access        -0.021478    -0.149341  ...           0.060225   \n",
       "STREET_Paved             0.015434     0.032493  ...          -0.021161   \n",
       "MZZONE_C                -0.006012    -0.218441  ...           0.024706   \n",
       "MZZONE_I                -0.011881    -0.161581  ...           0.054549   \n",
       "MZZONE_RH                0.008581     0.022598  ...          -0.007918   \n",
       "MZZONE_RL               -0.012439     0.137466  ...          -0.033396   \n",
       "MZZONE_RM                0.004641     0.235134  ...          -0.011801   \n",
       "\n",
       "                       UTILITY_AVAIL_NoSeWa  UTILITY_AVAIL_NoSewr   \\\n",
       "INT_SQFT                           0.025290               0.030922   \n",
       "DIST_MAINROAD                     -0.014840               0.011974   \n",
       "N_BEDROOM                          0.031149               0.038896   \n",
       "N_BATHROOM                         0.021273               0.031606   \n",
       "N_ROOM                             0.021138               0.033587   \n",
       "QS_ROOMS                           0.005090               0.010696   \n",
       "QS_BATHROOM                        0.002258              -0.004176   \n",
       "QS_BEDROOM                         0.003134               0.015301   \n",
       "QS_OVERALL                         0.009898               0.007248   \n",
       "SALES_PRICE                       -0.000290               0.004818   \n",
       "BUILDING_AGE                      -0.011030              -0.011315   \n",
       "AREA_Anna Nagar                   -0.020749              -0.018180   \n",
       "AREA_Chrompet                     -0.016427               0.003100   \n",
       "AREA_KK Nagar                      0.075067               0.062546   \n",
       "AREA_Karapakkam                   -0.011768              -0.000362   \n",
       "AREA_T Nagar                       0.000576              -0.004561   \n",
       "AREA_Velachery                    -0.017771              -0.019025   \n",
       "SALE_COND_AdjLand                  0.012937              -0.004185   \n",
       "SALE_COND_Family                  -0.012241               0.005689   \n",
       "SALE_COND_Normal Sale             -0.004403               0.004738   \n",
       "SALE_COND_Partial                 -0.008080               0.013089   \n",
       "PARK_FACIL_Yes                     0.011466              -0.019863   \n",
       "BUILDTYPE_House                   -0.019658               0.023176   \n",
       "BUILDTYPE_Other                    0.016454              -0.014390   \n",
       "UTILITY_AVAIL_ELO                 -0.311941              -0.307191   \n",
       "UTILITY_AVAIL_NoSeWa               1.000000              -0.351758   \n",
       "UTILITY_AVAIL_NoSewr              -0.351758               1.000000   \n",
       "STREET_No Access                  -0.014065              -0.039926   \n",
       "STREET_Paved                      -0.000610               0.030991   \n",
       "MZZONE_C                          -0.009270               0.004211   \n",
       "MZZONE_I                          -0.019755              -0.013623   \n",
       "MZZONE_RH                         -0.002581               0.000912   \n",
       "MZZONE_RL                          0.013812               0.006573   \n",
       "MZZONE_RM                          0.005704               0.008501   \n",
       "\n",
       "                       STREET_No Access  STREET_Paved  MZZONE_C  MZZONE_I  \\\n",
       "INT_SQFT                      -0.113160      0.060426 -0.084035 -0.078290   \n",
       "DIST_MAINROAD                 -0.009223      0.014090 -0.008996  0.009730   \n",
       "N_BEDROOM                     -0.140196      0.069205 -0.017259 -0.014333   \n",
       "N_BATHROOM                    -0.078364      0.028509  0.052443  0.060573   \n",
       "N_ROOM                        -0.105984      0.049886 -0.091341 -0.087920   \n",
       "QS_ROOMS                      -0.011349      0.017089 -0.008152  0.007917   \n",
       "QS_BATHROOM                   -0.011821      0.016293  0.008982  0.010363   \n",
       "QS_BEDROOM                    -0.016548     -0.008378 -0.012115 -0.018541   \n",
       "QS_OVERALL                    -0.021478      0.015434 -0.006012 -0.011881   \n",
       "SALES_PRICE                   -0.149341      0.032493 -0.218441 -0.161581   \n",
       "BUILDING_AGE                   0.043845     -0.016607  0.061865  0.075173   \n",
       "AREA_Anna Nagar                0.047137     -0.036454 -0.102243 -0.099702   \n",
       "AREA_Chrompet                  0.051259     -0.034832 -0.162467 -0.158430   \n",
       "AREA_KK Nagar                 -0.254194      0.132603 -0.116955 -0.114049   \n",
       "AREA_Karapakkam                0.062909     -0.029135  0.176819  0.188559   \n",
       "AREA_T Nagar                   0.022380     -0.002816 -0.079306 -0.077335   \n",
       "AREA_Velachery                 0.028649     -0.007572  0.137548  0.128743   \n",
       "SALE_COND_AdjLand             -0.001771     -0.009197  0.000877 -0.003039   \n",
       "SALE_COND_Family               0.014060      0.001767  0.000601  0.019445   \n",
       "SALE_COND_Normal Sale          0.009560      0.021338 -0.019860 -0.008185   \n",
       "SALE_COND_Partial             -0.002005     -0.010546  0.005425 -0.017198   \n",
       "PARK_FACIL_Yes                -0.003570      0.008339 -0.002648 -0.009575   \n",
       "BUILDTYPE_House                0.001693     -0.026642 -0.012287 -0.010746   \n",
       "BUILDTYPE_Other               -0.002512      0.006137  0.014876 -0.004024   \n",
       "UTILITY_AVAIL_ELO              0.060225     -0.021161  0.024706  0.054549   \n",
       "UTILITY_AVAIL_NoSeWa          -0.014065     -0.000610 -0.009270 -0.019755   \n",
       "UTILITY_AVAIL_NoSewr          -0.039926      0.030991  0.004211 -0.013623   \n",
       "STREET_No Access               1.000000     -0.473871  0.040820  0.015564   \n",
       "STREET_Paved                  -0.473871      1.000000 -0.026283 -0.014487   \n",
       "MZZONE_C                       0.040820     -0.026283  1.000000 -0.081771   \n",
       "MZZONE_I                       0.015564     -0.014487 -0.081771  1.000000   \n",
       "MZZONE_RH                     -0.022833      0.022670 -0.169993 -0.165769   \n",
       "MZZONE_RL                     -0.012187      0.019845 -0.172252 -0.167972   \n",
       "MZZONE_RM                     -0.017546     -0.008981 -0.169680 -0.165464   \n",
       "\n",
       "                       MZZONE_RH  MZZONE_RL  MZZONE_RM  \n",
       "INT_SQFT                0.033044   0.067795   0.053017  \n",
       "DIST_MAINROAD           0.007454   0.008959  -0.007888  \n",
       "N_BEDROOM              -0.010636   0.040104   0.013931  \n",
       "N_BATHROOM             -0.032484  -0.012477  -0.023799  \n",
       "N_ROOM                  0.026932   0.084320   0.060642  \n",
       "QS_ROOMS                0.012162  -0.012083   0.003202  \n",
       "QS_BATHROOM             0.003302  -0.025412   0.003103  \n",
       "QS_BEDROOM             -0.003892   0.011552   0.001457  \n",
       "QS_OVERALL              0.008581  -0.012439   0.004641  \n",
       "SALES_PRICE             0.022598   0.137466   0.235134  \n",
       "BUILDING_AGE           -0.028461  -0.052889  -0.042005  \n",
       "AREA_Anna Nagar         0.058540   0.061237   0.063271  \n",
       "AREA_Chrompet           0.092709   0.100659   0.097476  \n",
       "AREA_KK Nagar           0.065391   0.069541   0.074460  \n",
       "AREA_Karapakkam        -0.096578  -0.117026  -0.114705  \n",
       "AREA_T Nagar            0.026404   0.054497   0.061047  \n",
       "AREA_Velachery         -0.075133  -0.084837  -0.086711  \n",
       "SALE_COND_AdjLand       0.012182  -0.008044  -0.003047  \n",
       "SALE_COND_Family       -0.003709  -0.013423   0.004380  \n",
       "SALE_COND_Normal Sale  -0.011038   0.023273   0.006684  \n",
       "SALE_COND_Partial       0.003798   0.008358   0.000593  \n",
       "PARK_FACIL_Yes          0.000432   0.008648  -0.009550  \n",
       "BUILDTYPE_House        -0.003653   0.014990  -0.003168  \n",
       "BUILDTYPE_Other        -0.005285  -0.005817  -0.004162  \n",
       "UTILITY_AVAIL_ELO      -0.007918  -0.033396  -0.011801  \n",
       "UTILITY_AVAIL_NoSeWa   -0.002581   0.013812   0.005704  \n",
       "UTILITY_AVAIL_NoSewr    0.000912   0.006573   0.008501  \n",
       "STREET_No Access       -0.022833  -0.012187  -0.017546  \n",
       "STREET_Paved            0.022670   0.019845  -0.008981  \n",
       "MZZONE_C               -0.169993  -0.172252  -0.169680  \n",
       "MZZONE_I               -0.165769  -0.167972  -0.165464  \n",
       "MZZONE_RH               1.000000  -0.349198  -0.343983  \n",
       "MZZONE_RL              -0.349198   1.000000  -0.348553  \n",
       "MZZONE_RM              -0.343983  -0.348553   1.000000  \n",
       "\n",
       "[34 rows x 34 columns]"
      ]
     },
     "execution_count": 65,
     "metadata": {},
     "output_type": "execute_result"
    }
   ],
   "source": [
    "df1.corr()"
   ]
  },
  {
   "cell_type": "code",
   "execution_count": 66,
   "id": "NXOul5GIXz_s",
   "metadata": {
    "colab": {
     "base_uri": "https://localhost:8080/"
    },
    "id": "NXOul5GIXz_s",
    "outputId": "919f4223-99df-4f89-b4a3-4c9dd7370892"
   },
   "outputs": [
    {
     "data": {
      "text/plain": [
       "INT_SQFT                 0.612125\n",
       "DIST_MAINROAD            0.018783\n",
       "N_BEDROOM                0.330987\n",
       "N_BATHROOM               0.108834\n",
       "N_ROOM                   0.602760\n",
       "QS_ROOMS                 0.021967\n",
       "QS_BATHROOM             -0.011377\n",
       "QS_BEDROOM               0.018804\n",
       "QS_OVERALL               0.020485\n",
       "SALES_PRICE              1.000000\n",
       "BUILDING_AGE            -0.119192\n",
       "AREA_Anna Nagar          0.400390\n",
       "AREA_Chrompet           -0.131183\n",
       "AREA_KK Nagar            0.193062\n",
       "AREA_Karapakkam         -0.460068\n",
       "AREA_T Nagar             0.343654\n",
       "AREA_Velachery           0.016186\n",
       "SALE_COND_AdjLand        0.042032\n",
       "SALE_COND_Family        -0.020856\n",
       "SALE_COND_Normal Sale    0.013178\n",
       "SALE_COND_Partial       -0.037140\n",
       "PARK_FACIL_Yes           0.146428\n",
       "BUILDTYPE_House         -0.344982\n",
       "BUILDTYPE_Other         -0.201783\n",
       "UTILITY_AVAIL_ELO       -0.058934\n",
       "UTILITY_AVAIL_NoSeWa    -0.000290\n",
       "UTILITY_AVAIL_NoSewr     0.004818\n",
       "STREET_No Access        -0.149341\n",
       "STREET_Paved             0.032493\n",
       "MZZONE_C                -0.218441\n",
       "MZZONE_I                -0.161581\n",
       "MZZONE_RH                0.022598\n",
       "MZZONE_RL                0.137466\n",
       "MZZONE_RM                0.235134\n",
       "Name: SALES_PRICE, dtype: float64"
      ]
     },
     "execution_count": 66,
     "metadata": {},
     "output_type": "execute_result"
    }
   ],
   "source": [
    "df1.corr()['SALES_PRICE']"
   ]
  },
  {
   "cell_type": "code",
   "execution_count": 67,
   "id": "MBS3ESs_YerS",
   "metadata": {
    "colab": {
     "base_uri": "https://localhost:8080/"
    },
    "id": "MBS3ESs_YerS",
    "outputId": "6aaa8acb-f9eb-4145-c96c-49a22bcdddfe"
   },
   "outputs": [
    {
     "data": {
      "text/plain": [
       "SALES_PRICE              1.000000\n",
       "INT_SQFT                 0.612125\n",
       "N_ROOM                   0.602760\n",
       "AREA_Anna Nagar          0.400390\n",
       "AREA_T Nagar             0.343654\n",
       "N_BEDROOM                0.330987\n",
       "MZZONE_RM                0.235134\n",
       "AREA_KK Nagar            0.193062\n",
       "PARK_FACIL_Yes           0.146428\n",
       "MZZONE_RL                0.137466\n",
       "N_BATHROOM               0.108834\n",
       "SALE_COND_AdjLand        0.042032\n",
       "STREET_Paved             0.032493\n",
       "MZZONE_RH                0.022598\n",
       "QS_ROOMS                 0.021967\n",
       "QS_OVERALL               0.020485\n",
       "QS_BEDROOM               0.018804\n",
       "DIST_MAINROAD            0.018783\n",
       "AREA_Velachery           0.016186\n",
       "SALE_COND_Normal Sale    0.013178\n",
       "UTILITY_AVAIL_NoSewr     0.004818\n",
       "UTILITY_AVAIL_NoSeWa    -0.000290\n",
       "QS_BATHROOM             -0.011377\n",
       "SALE_COND_Family        -0.020856\n",
       "SALE_COND_Partial       -0.037140\n",
       "UTILITY_AVAIL_ELO       -0.058934\n",
       "BUILDING_AGE            -0.119192\n",
       "AREA_Chrompet           -0.131183\n",
       "STREET_No Access        -0.149341\n",
       "MZZONE_I                -0.161581\n",
       "BUILDTYPE_Other         -0.201783\n",
       "MZZONE_C                -0.218441\n",
       "BUILDTYPE_House         -0.344982\n",
       "AREA_Karapakkam         -0.460068\n",
       "Name: SALES_PRICE, dtype: float64"
      ]
     },
     "execution_count": 67,
     "metadata": {},
     "output_type": "execute_result"
    }
   ],
   "source": [
    "df1.corr()['SALES_PRICE'].sort_values(ascending=False)"
   ]
  },
  {
   "cell_type": "markdown",
   "id": "8Bz4gfcaYYZy",
   "metadata": {
    "id": "8Bz4gfcaYYZy"
   },
   "source": [
    "From the above observations we can say that INT_SQFT, N_ROOMS and AREA decides the SALES_PRICE."
   ]
  },
  {
   "cell_type": "markdown",
   "id": "yNgm_UlUYpe1",
   "metadata": {
    "id": "yNgm_UlUYpe1"
   },
   "source": [
    "#Model Creation\n"
   ]
  },
  {
   "cell_type": "markdown",
   "id": "qrsACgnt7PNf",
   "metadata": {
    "id": "qrsACgnt7PNf"
   },
   "source": [
    "Linear Regression Model"
   ]
  },
  {
   "cell_type": "code",
   "execution_count": 68,
   "id": "cjWaHcY9YsLM",
   "metadata": {
    "id": "cjWaHcY9YsLM"
   },
   "outputs": [],
   "source": [
    "from sklearn.linear_model import LinearRegression\n",
    "from sklearn.model_selection import train_test_split"
   ]
  },
  {
   "cell_type": "code",
   "execution_count": 69,
   "id": "UD2BNvJHSyQ6",
   "metadata": {
    "id": "UD2BNvJHSyQ6"
   },
   "outputs": [],
   "source": [
    "x = df1.drop('SALES_PRICE',axis=1)\n",
    "y = df1.SALES_PRICE"
   ]
  },
  {
   "cell_type": "markdown",
   "id": "4-i0WO4bTGlH",
   "metadata": {
    "id": "4-i0WO4bTGlH"
   },
   "source": [
    "Splitting the dataset into 30% test data and remaining 70% for training the model."
   ]
  },
  {
   "cell_type": "code",
   "execution_count": 70,
   "id": "xiQeipOjTBU8",
   "metadata": {
    "id": "xiQeipOjTBU8"
   },
   "outputs": [],
   "source": [
    "x_train,x_test,y_train,y_test = train_test_split(x,y,test_size=0.3,random_state=0)"
   ]
  },
  {
   "cell_type": "markdown",
   "id": "bELdOfMVT-2y",
   "metadata": {
    "id": "bELdOfMVT-2y"
   },
   "source": [
    "Scaling the data."
   ]
  },
  {
   "cell_type": "code",
   "execution_count": 71,
   "id": "zOFU6zDZT-jt",
   "metadata": {
    "id": "zOFU6zDZT-jt"
   },
   "outputs": [],
   "source": [
    "from sklearn.preprocessing import StandardScaler \n",
    "scaler = StandardScaler()\n",
    "x_train_scaled = scaler.fit_transform(x_train) \n",
    "x_test_scaled = scaler.transform(x_test)"
   ]
  },
  {
   "cell_type": "markdown",
   "id": "p-kvSAoCVKkn",
   "metadata": {
    "id": "p-kvSAoCVKkn"
   },
   "source": [
    "Fitting the model"
   ]
  },
  {
   "cell_type": "code",
   "execution_count": 72,
   "id": "iFzgCn26VNFY",
   "metadata": {
    "id": "iFzgCn26VNFY"
   },
   "outputs": [],
   "source": [
    "regressor = LinearRegression()\n",
    "model = regressor.fit(x_train_scaled, y_train)"
   ]
  },
  {
   "cell_type": "code",
   "execution_count": 73,
   "id": "-bvGX6zYVnj2",
   "metadata": {
    "colab": {
     "base_uri": "https://localhost:8080/"
    },
    "id": "-bvGX6zYVnj2",
    "outputId": "5542628a-700a-4d21-af08-34d327669f55"
   },
   "outputs": [
    {
     "data": {
      "text/plain": [
       "array([13833227.77193033, 12992010.09134933, 18293672.97399794, ...,\n",
       "       14831662.50249282,  8469669.56703375,  4862144.30288488])"
      ]
     },
     "execution_count": 73,
     "metadata": {},
     "output_type": "execute_result"
    }
   ],
   "source": [
    "y_pred = regressor.predict(x_test_scaled) \n",
    "y_pred"
   ]
  },
  {
   "cell_type": "code",
   "execution_count": 74,
   "id": "xWjt0U1UWASm",
   "metadata": {
    "colab": {
     "base_uri": "https://localhost:8080/",
     "height": 424
    },
    "id": "xWjt0U1UWASm",
    "outputId": "3408e66f-7ade-4ceb-8011-b368d0f5ba86"
   },
   "outputs": [
    {
     "data": {
      "text/html": [
       "<div>\n",
       "<style scoped>\n",
       "    .dataframe tbody tr th:only-of-type {\n",
       "        vertical-align: middle;\n",
       "    }\n",
       "\n",
       "    .dataframe tbody tr th {\n",
       "        vertical-align: top;\n",
       "    }\n",
       "\n",
       "    .dataframe thead th {\n",
       "        text-align: right;\n",
       "    }\n",
       "</style>\n",
       "<table border=\"1\" class=\"dataframe\">\n",
       "  <thead>\n",
       "    <tr style=\"text-align: right;\">\n",
       "      <th></th>\n",
       "      <th>Actual</th>\n",
       "      <th>Predicted</th>\n",
       "    </tr>\n",
       "  </thead>\n",
       "  <tbody>\n",
       "    <tr>\n",
       "      <th>3913</th>\n",
       "      <td>13376150</td>\n",
       "      <td>1.383323e+07</td>\n",
       "    </tr>\n",
       "    <tr>\n",
       "      <th>2726</th>\n",
       "      <td>12857440</td>\n",
       "      <td>1.299201e+07</td>\n",
       "    </tr>\n",
       "    <tr>\n",
       "      <th>6220</th>\n",
       "      <td>19124310</td>\n",
       "      <td>1.829367e+07</td>\n",
       "    </tr>\n",
       "    <tr>\n",
       "      <th>2716</th>\n",
       "      <td>4905000</td>\n",
       "      <td>4.050538e+06</td>\n",
       "    </tr>\n",
       "    <tr>\n",
       "      <th>5459</th>\n",
       "      <td>13534450</td>\n",
       "      <td>1.361377e+07</td>\n",
       "    </tr>\n",
       "    <tr>\n",
       "      <th>...</th>\n",
       "      <td>...</td>\n",
       "      <td>...</td>\n",
       "    </tr>\n",
       "    <tr>\n",
       "      <th>549</th>\n",
       "      <td>7511125</td>\n",
       "      <td>7.022912e+06</td>\n",
       "    </tr>\n",
       "    <tr>\n",
       "      <th>6275</th>\n",
       "      <td>9414770</td>\n",
       "      <td>9.187187e+06</td>\n",
       "    </tr>\n",
       "    <tr>\n",
       "      <th>6772</th>\n",
       "      <td>13614160</td>\n",
       "      <td>1.483166e+07</td>\n",
       "    </tr>\n",
       "    <tr>\n",
       "      <th>2861</th>\n",
       "      <td>8415125</td>\n",
       "      <td>8.469670e+06</td>\n",
       "    </tr>\n",
       "    <tr>\n",
       "      <th>5407</th>\n",
       "      <td>6479750</td>\n",
       "      <td>4.862144e+06</td>\n",
       "    </tr>\n",
       "  </tbody>\n",
       "</table>\n",
       "<p>2133 rows × 2 columns</p>\n",
       "</div>"
      ],
      "text/plain": [
       "        Actual     Predicted\n",
       "3913  13376150  1.383323e+07\n",
       "2726  12857440  1.299201e+07\n",
       "6220  19124310  1.829367e+07\n",
       "2716   4905000  4.050538e+06\n",
       "5459  13534450  1.361377e+07\n",
       "...        ...           ...\n",
       "549    7511125  7.022912e+06\n",
       "6275   9414770  9.187187e+06\n",
       "6772  13614160  1.483166e+07\n",
       "2861   8415125  8.469670e+06\n",
       "5407   6479750  4.862144e+06\n",
       "\n",
       "[2133 rows x 2 columns]"
      ]
     },
     "execution_count": 74,
     "metadata": {},
     "output_type": "execute_result"
    }
   ],
   "source": [
    "df2 = pd.DataFrame({'Actual': y_test, 'Predicted': y_pred})\n",
    "df2"
   ]
  },
  {
   "cell_type": "code",
   "execution_count": 75,
   "id": "L0ZabhruWGOf",
   "metadata": {
    "colab": {
     "base_uri": "https://localhost:8080/",
     "height": 295
    },
    "id": "L0ZabhruWGOf",
    "outputId": "3bb84572-6b73-47ef-d690-d3a7957493ad"
   },
   "outputs": [
    {
     "data": {
      "image/png": "[encoded data removed]",
      "text/plain": [
       "<Figure size 432x288 with 1 Axes>"
      ]
     },
     "metadata": {
      "needs_background": "light"
     },
     "output_type": "display_data"
    }
   ],
   "source": [
    "plt.scatter(y_pred,y_test,alpha=0.75,color='cyan')\n",
    "plt.title('Linear Regression Model')\n",
    "plt.xlabel('Predicted Price')\n",
    "plt.ylabel('Actual Price')\n",
    "plt.show()"
   ]
  },
  {
   "cell_type": "code",
   "execution_count": 76,
   "id": "PzW2hRJ1W2Le",
   "metadata": {
    "colab": {
     "base_uri": "https://localhost:8080/"
    },
    "id": "PzW2hRJ1W2Le",
    "outputId": "892fa7c6-68c9-4fa2-de84-8299f1015097"
   },
   "outputs": [
    {
     "name": "stdout",
     "output_type": "stream",
     "text": [
      "R2-SCORE: 0.9567524868183814\n"
     ]
    }
   ],
   "source": [
    "from sklearn import metrics \n",
    "print('R2-SCORE:', metrics.r2_score(y_test,y_pred)) "
   ]
  },
  {
   "cell_type": "markdown",
   "id": "VNQnKPUTYl1P",
   "metadata": {
    "id": "VNQnKPUTYl1P"
   },
   "source": [
    "Random Forest Regressor"
   ]
  },
  {
   "cell_type": "code",
   "execution_count": 77,
   "id": "2V9o2ue7YliF",
   "metadata": {
    "id": "2V9o2ue7YliF"
   },
   "outputs": [],
   "source": [
    "from sklearn.ensemble import RandomForestRegressor"
   ]
  },
  {
   "cell_type": "code",
   "execution_count": 78,
   "id": "jSNwJcElY1VQ",
   "metadata": {
    "colab": {
     "base_uri": "https://localhost:8080/"
    },
    "id": "jSNwJcElY1VQ",
    "outputId": "6cf3154e-95b2-449e-c9b0-90730f16fcdf"
   },
   "outputs": [
    {
     "data": {
      "text/plain": [
       "0.9731553488223103"
      ]
     },
     "execution_count": 78,
     "metadata": {},
     "output_type": "execute_result"
    }
   ],
   "source": [
    "random = RandomForestRegressor(n_estimators=400).fit(x_train_scaled,y_train)\n",
    "rf_pred = random.predict(x_test_scaled)\n",
    "rf_reg_score = random.score(x_test_scaled,y_test)\n",
    "rf_reg_score"
   ]
  },
  {
   "cell_type": "markdown",
   "id": "v0KJhVihd54j",
   "metadata": {
    "id": "v0KJhVihd54j"
   },
   "source": [
    "XG Boost regressor Model"
   ]
  },
  {
   "cell_type": "code",
   "execution_count": 80,
   "id": "e3a65b89",
   "metadata": {},
   "outputs": [
    {
     "name": "stdout",
     "output_type": "stream",
     "text": [
      "Collecting xgboost\n",
      "  Downloading xgboost-1.6.1-py3-none-win_amd64.whl (125.4 MB)\n",
      "Requirement already satisfied: numpy in c:\\users\\anoop\\anaconda3\\lib\\site-packages (from xgboost) (1.20.3)\n",
      "Requirement already satisfied: scipy in c:\\users\\anoop\\anaconda3\\lib\\site-packages (from xgboost) (1.7.1)\n",
      "Installing collected packages: xgboost\n",
      "Successfully installed xgboost-1.6.1\n",
      "Note: you may need to restart the kernel to use updated packages.\n"
     ]
    }
   ],
   "source": [
    "pip install xgboost"
   ]
  },
  {
   "cell_type": "code",
   "execution_count": 84,
   "id": "bGYVnXG9d_eg",
   "metadata": {
    "colab": {
     "base_uri": "https://localhost:8080/"
    },
    "id": "bGYVnXG9d_eg",
    "outputId": "741c4da8-9f25-46cf-c00c-3e72be987edd"
   },
   "outputs": [
    {
     "data": {
      "text/plain": [
       "0.9932734234954786"
      ]
     },
     "execution_count": 84,
     "metadata": {},
     "output_type": "execute_result"
    }
   ],
   "source": [
    "xx = XGBRegressor().fit(x_train_scaled,y_train)\n",
    "xgb_reg_pred = xx.predict(x_test_scaled)\n",
    "xgb_score = xx.score(x_test_scaled,y_test)\n",
    "xgb_score"
   ]
  },
  {
   "cell_type": "markdown",
   "id": "n36i0SYg40An",
   "metadata": {
    "id": "n36i0SYg40An"
   },
   "source": [
    "#Feature Selection"
   ]
  },
  {
   "cell_type": "code",
   "execution_count": 83,
   "id": "9XRW8YNr452-",
   "metadata": {
    "colab": {
     "base_uri": "https://localhost:8080/",
     "height": 337
    },
    "id": "9XRW8YNr452-",
    "outputId": "527251b8-d937-4d2f-cd81-600f1325f9a8"
   },
   "outputs": [
    {
     "data": {
      "text/plain": [
       "<AxesSubplot:>"
      ]
     },
     "execution_count": 83,
     "metadata": {},
     "output_type": "execute_result"
    },
    {
     "data": {
      "image/png": "[encoded data removed]",
      "text/plain": [
       "<Figure size 720x360 with 1 Axes>"
      ]
     },
     "metadata": {
      "needs_background": "light"
     },
     "output_type": "display_data"
    }
   ],
   "source": [
    "from sklearn.ensemble import ExtraTreesRegressor\n",
    "model = ExtraTreesRegressor()\n",
    "model.fit(x_train_scaled,y_train)\n",
    "feat_importances = pd.Series(model.feature_importances_, index=x_train.columns)\n",
    "feat_importances.nlargest(10).sort_values().plot(kind='barh', figsize=(10,5))"
   ]
  },
  {
   "cell_type": "markdown",
   "id": "h3FqjO7U5guq",
   "metadata": {
    "id": "h3FqjO7U5guq"
   },
   "source": [
    "From the above observation we can conclude that BUILDTYPE, INT_SQFT, N_ROOMS and AREA decides the Sales Price.\n",
    "\n"
   ]
  },
  {
   "cell_type": "markdown",
   "id": "iftcwW-wewJs",
   "metadata": {
    "id": "iftcwW-wewJs"
   },
   "source": [
    "#Conclusion"
   ]
  },
  {
   "cell_type": "markdown",
   "id": "ThI4MxB-gqAg",
   "metadata": {
    "id": "ThI4MxB-gqAg"
   },
   "source": [
    "The Scores obtained by different regressor models are\n",
    "\n",
    "\n",
    "*   Linear regression model is around 95.67%\n",
    "*   Random Forest model is around 97.34%\n",
    "* XGB regressor model is around 97.91%\n",
    "\n",
    "So from the above inferences we can say that XGB Regressor is the suitable model for this dataset.\n",
    "\n",
    "\n",
    "\n"
   ]
  }
 ],
 "metadata": {
  "colab": {
   "collapsed_sections": [
    "xdl8DMf8hV24",
    "kfCWU3vvdzMb",
    "MtPPqKDB8UGq",
    "SQBk-M4BKMpk",
    "yaieyhnYGRYd",
    "oNWetGEJMC38",
    "FMqW9VkkPgg0",
    "0p46lUHGTiyY",
    "yNgm_UlUYpe1"
   ],
   "include_colab_link": true,
   "name": "Chennai House Price Prediction.ipynb",
   "provenance": []
  },
  "kernelspec": {
   "display_name": "Python 3 (ipykernel)",
   "language": "python",
   "name": "python3"
  },
  "language_info": {
   "codemirror_mode": {
    "name": "ipython",
    "version": 3
   },
   "file_extension": ".py",
   "mimetype": "text/x-python",
   "name": "python",
   "nbconvert_exporter": "python",
   "pygments_lexer": "ipython3",
   "version": "3.9.7"
  }
 },
 "nbformat": 4,
 "nbformat_minor": 5
}
